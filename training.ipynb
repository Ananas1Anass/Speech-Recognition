{
  "cells": [
    {
      "cell_type": "markdown",
      "metadata": {
        "id": "view-in-github",
        "colab_type": "text"
      },
      "source": [
        "<a href=\"https://colab.research.google.com/github/Ananas1Anass/Speech-Recognition/blob/main/training.ipynb\" target=\"_parent\"><img src=\"https://colab.research.google.com/assets/colab-badge.svg\" alt=\"Open In Colab\"/></a>"
      ]
    },
    {
      "cell_type": "markdown",
      "source": [
        ""
      ],
      "metadata": {
        "id": "PL0WEO7gfVPD"
      }
    },
    {
      "cell_type": "markdown",
      "source": [
        "# DON'T FORGET TO RUN ON GPU \n",
        "## EDIT --> NOTEBOOK SETTINGS ---> HD accelerator --> GPU"
      ],
      "metadata": {
        "id": "n5l58Ty36_q8"
      }
    },
    {
      "cell_type": "code",
      "source": [
        "!git clone https://github.com/Ananas1Anass/Speech-Recognition.git"
      ],
      "metadata": {
        "colab": {
          "base_uri": "https://localhost:8080/"
        },
        "id": "5DmdiRQGY8Br",
        "outputId": "11704066-d66c-4d9b-deb4-a3b1f7b7e929"
      },
      "execution_count": null,
      "outputs": [
        {
          "output_type": "stream",
          "name": "stdout",
          "text": [
            "Cloning into 'Speech-Recognition'...\n",
            "remote: Enumerating objects: 33, done.\u001b[K\n",
            "remote: Counting objects: 100% (33/33), done.\u001b[K\n",
            "remote: Compressing objects: 100% (31/31), done.\u001b[K\n",
            "remote: Total 33 (delta 8), reused 0 (delta 0), pack-reused 0\u001b[K\n",
            "Unpacking objects: 100% (33/33), done.\n"
          ]
        }
      ]
    },
    {
      "cell_type": "code",
      "source": [
        "!unzip -u \"/content/drive/MyDrive/normalized1.zip\" -d \"/content/drive/MyDrive/dataset_port\""
      ],
      "metadata": {
        "id": "hNLC835G5ZUk"
      },
      "execution_count": null,
      "outputs": []
    },
    {
      "cell_type": "markdown",
      "source": [
        ""
      ],
      "metadata": {
        "id": "ytF5qC8ve-tt"
      }
    },
    {
      "cell_type": "code",
      "source": [
        "!ls /content/drive/MyDrive/dataset_port/normalized1\n"
      ],
      "metadata": {
        "colab": {
          "base_uri": "https://localhost:8080/"
        },
        "id": "KceQZ1mg9DJo",
        "outputId": "c5eb163c-adcd-4e8f-e632-71e8cef41110"
      },
      "execution_count": null,
      "outputs": [
        {
          "output_type": "stream",
          "name": "stdout",
          "text": [
            "Ajuda\t    Arma\t _background_noise_  Policia  Segurenca\n",
            "Ambulancia  Assassinato  Faca\t\t     Roubo\n"
          ]
        }
      ]
    },
    {
      "cell_type": "code",
      "source": [
        "!unzip -u \"/content/drive/MyDrive/data_Anass.zip\" -d \"/content/drive/MyDrive/dataset_eng\""
      ],
      "metadata": {
        "id": "vh62Ca6Z5vAD"
      },
      "execution_count": null,
      "outputs": []
    },
    {
      "cell_type": "code",
      "source": [
        "!ls /content/drive/MyDrive/dataset_eng/"
      ],
      "metadata": {
        "colab": {
          "base_uri": "https://localhost:8080/"
        },
        "id": "PFHcHjU8BZcd",
        "outputId": "cf2b259a-d8c2-4f32-9bd7-919f7e826388"
      },
      "execution_count": null,
      "outputs": [
        {
          "output_type": "stream",
          "name": "stdout",
          "text": [
            "data_Anass  targets_mfcc_32_eng.npz  targets_mfcc_32_port.npz\n"
          ]
        }
      ]
    },
    {
      "cell_type": "code",
      "source": [
        "!ls /content/drive/MyDrive/dataset_eng/data_Anass/\n"
      ],
      "metadata": {
        "colab": {
          "base_uri": "https://localhost:8080/"
        },
        "id": "z1rymgih9Ocv",
        "outputId": "17a58995-8a14-4fcc-921a-f27b1fe43cea"
      },
      "execution_count": null,
      "outputs": [
        {
          "output_type": "stream",
          "name": "stdout",
          "text": [
            "_background_noise_  bird  down\t   go\t off\tstop\twow\n",
            "backward\t    cat   follow   left  right\tup\tyes\n",
            "bed\t\t    dog   forward  no\t seven\tvisual\tzero\n"
          ]
        }
      ]
    },
    {
      "cell_type": "code",
      "source": [
        "!ls -l /content/"
      ],
      "metadata": {
        "colab": {
          "base_uri": "https://localhost:8080/"
        },
        "id": "75R_WkL2cx-t",
        "outputId": "09ec5ece-05bd-4370-865d-2bb2a6dabcaf"
      },
      "execution_count": null,
      "outputs": [
        {
          "output_type": "stream",
          "name": "stdout",
          "text": [
            "total 74500\n",
            "drwx------ 5 root root     4096 Aug 10 01:45 drive\n",
            "drwxr-xr-x 1 root root     4096 Aug  3 20:21 sample_data\n",
            "drwxr-xr-x 3 root root     4096 Aug 10 01:35 Speech-Recognition\n",
            "-rw-r--r-- 1 root root 69206016 Aug 10 01:36 targets_mfcc_32_eng.npz\n",
            "-rw-r--r-- 1 root root  7045286 Aug 10 01:30 targets_mfcc_32_port.npz\n",
            "-rw-r--r-- 1 root root    14238 Aug 10 01:50 Training_and_validation_loss.png\n"
          ]
        }
      ]
    },
    {
      "cell_type": "code",
      "source": [
        "from google.colab import drive\n",
        "drive.mount('/content/drive',force_remount=True)"
      ],
      "metadata": {
        "colab": {
          "base_uri": "https://localhost:8080/"
        },
        "id": "_dN0WIzr5BRB",
        "outputId": "b1aaaab6-e5fa-48e5-9c37-1b8a6045cf71"
      },
      "execution_count": 4,
      "outputs": [
        {
          "output_type": "stream",
          "name": "stdout",
          "text": [
            "Mounted at /content/drive\n"
          ]
        }
      ]
    },
    {
      "cell_type": "code",
      "execution_count": 5,
      "metadata": {
        "id": "Aa3UvwcC4ZU_"
      },
      "outputs": [],
      "source": [
        "from os import listdir\n",
        "from os.path import isdir, join\n",
        "from tensorflow.keras import layers, models, metrics\n",
        "import tensorflow as tf\n",
        "import numpy as np"
      ]
    },
    {
      "cell_type": "code",
      "execution_count": 6,
      "metadata": {
        "id": "V2lL9KmW4ZVH",
        "colab": {
          "base_uri": "https://localhost:8080/"
        },
        "outputId": "629ed1f1-1271-409e-8cef-4b3b5240481c"
      },
      "outputs": [
        {
          "output_type": "stream",
          "name": "stdout",
          "text": [
            "['bed', 'bird', 'wow', 'seven', 'dog', 'off', 'cat', 'zero', 'forward', 'visual', 'follow', 'down', 'go', 'left', 'no', 'right', 'stop', 'up', 'yes', 'backward']\n"
          ]
        }
      ],
      "source": [
        "# Create list of all targets (minus background noise)\n",
        "dataset_path = '/content/drive/MyDrive/dataset_eng/data_Anass/'\n",
        "all_targets = all_targets = [name for name in listdir(dataset_path) if isdir(join(dataset_path, name))]\n",
        "all_targets.remove('_background_noise_')\n",
        "print(all_targets)"
      ]
    },
    {
      "cell_type": "code",
      "execution_count": 8,
      "metadata": {
        "id": "BIy930zq4ZVP",
        "colab": {
          "base_uri": "https://localhost:8080/"
        },
        "outputId": "2187668b-664e-4692-fbb5-9f6cb6119301"
      },
      "outputs": [
        {
          "output_type": "stream",
          "name": "stdout",
          "text": [
            "['x_train', 'y_train', 'x_val', 'y_val', 'x_test', 'y_test']\n"
          ]
        }
      ],
      "source": [
        "# Settings\n",
        "feature_sets_path = '/content/drive/MyDrive/dataset_eng/'\n",
        "feature_sets_filename = 'targets_mfcc_32_eng.npz'\n",
        "wake_words = all_targets\n",
        "joined_wake_words = '_'.join(wake_words)\n",
        "model_filename = f'/content/drive/MyDrive/dataset_eng/wake_words_{joined_wake_words}_work.h5'\n",
        "# Load feature sets\n",
        "feature_sets = np.load(join(feature_sets_path, feature_sets_filename))\n",
        "print(feature_sets.files)"
      ]
    },
    {
      "cell_type": "code",
      "execution_count": 9,
      "metadata": {
        "id": "mmX6jRrM4ZVa"
      },
      "outputs": [],
      "source": [
        "# Assign feature sets\n",
        "x_train = feature_sets['x_train']\n",
        "y_train = feature_sets['y_train']\n",
        "x_val = feature_sets['x_val']\n",
        "y_val = feature_sets['y_val']\n",
        "x_test = feature_sets['x_test']\n",
        "y_test = feature_sets['y_test']"
      ]
    },
    {
      "cell_type": "code",
      "execution_count": 10,
      "metadata": {
        "id": "yAgEsGb44ZVb",
        "outputId": "5a6d6704-6b51-4c92-9b60-6915d81036c5",
        "colab": {
          "base_uri": "https://localhost:8080/"
        }
      },
      "outputs": [
        {
          "output_type": "stream",
          "name": "stdout",
          "text": [
            "(26417, 32, 32)\n",
            "(3292, 32, 32)\n",
            "(3333, 32, 32)\n",
            "[10. 10. 19. ...  1.  6. 15.]\n"
          ]
        }
      ],
      "source": [
        "# Look at tensor dimensions\n",
        "print(x_train.shape)\n",
        "print(x_val.shape)\n",
        "print(x_test.shape)\n",
        "# Peek at labels\n",
        "print(y_val)"
      ]
    },
    {
      "cell_type": "code",
      "execution_count": 11,
      "metadata": {
        "id": "CxLzXu7I4ZVs"
      },
      "outputs": [],
      "source": [
        "# Convert ground truth arrays to one wake word (1) and 'other' (0)\n",
        "wake_words_indexes = [all_targets.index(wake_word) for wake_word in wake_words]\n",
        "ys_train = np.array(list(map(np.array, zip(*[np.equal(y_train, wake_word_index).astype('float64') for wake_word_index in wake_words_indexes]))))\n",
        "ys_val = np.array(list(map(np.array, zip(*[np.equal(y_val, wake_word_index).astype('float64') for wake_word_index in wake_words_indexes]))))\n",
        "ys_test = np.array(list(map(np.array, zip(*[np.equal(y_test, wake_word_index).astype('float64') for wake_word_index in wake_words_indexes]))))"
      ]
    },
    {
      "cell_type": "code",
      "execution_count": 12,
      "metadata": {
        "tags": [],
        "id": "8Sn6iIlB4ZVz",
        "outputId": "117fdaa4-4e5c-4834-e16a-d56562f26898",
        "colab": {
          "base_uri": "https://localhost:8080/"
        }
      },
      "outputs": [
        {
          "output_type": "stream",
          "name": "stdout",
          "text": [
            "(0.11755771567436209, 0.027946537059538274, 0.050729040097205344, 0.02703523693803159, 0.05133657351154314, 0.028250303766707167, 0.04495747266099635, 0.05224787363304982, 0.050729040097205344, 0.04374240583232078, 0.10814094775212636, 0.04981773997569866, 0.027946537059538274, 0.022174969623329283, 0.051944106925880924, 0.02399756986634265, 0.024301336573511544, 0.02551640340218712, 0.04981773997569866, 0.12181044957472661)\n"
          ]
        }
      ],
      "source": [
        "print(tuple(sum(y_val) / len(y_val) for y_val in zip(*ys_val)))"
      ]
    },
    {
      "cell_type": "code",
      "execution_count": 13,
      "metadata": {
        "id": "OIVlRlVX4ZV1",
        "colab": {
          "base_uri": "https://localhost:8080/"
        },
        "outputId": "84b1fb5f-5aeb-4303-cfe9-06995b4d939c"
      },
      "outputs": [
        {
          "output_type": "stream",
          "name": "stdout",
          "text": [
            "(26417, 32, 32, 1)\n",
            "(3292, 32, 32, 1)\n",
            "(3333, 32, 32, 1)\n",
            "(32, 32, 1)\n"
          ]
        }
      ],
      "source": [
        "# CNN for TF expects (batch, height, width, channels)\n",
        "# So we reshape the input tensors with a \"color\" channel of 1\n",
        "x_train = x_train.reshape(x_train.shape[0],\n",
        "                          x_train.shape[1],\n",
        "                          x_train.shape[2],\n",
        "                          1)\n",
        "x_val = x_val.reshape(x_val.shape[0],\n",
        "                      x_val.shape[1],\n",
        "                      x_val.shape[2],\n",
        "                      1)\n",
        "x_test = x_test.reshape(x_test.shape[0],\n",
        "                        x_test.shape[1],\n",
        "                        x_test.shape[2],\n",
        "                        1)\n",
        "print(x_train.shape)\n",
        "print(x_val.shape)\n",
        "print(x_test.shape)\n",
        "\n",
        "# Input shape for CNN is size of MFCC of 1 sample\n",
        "sample_shape = x_test.shape[1:]\n",
        "print(sample_shape)"
      ]
    },
    {
      "cell_type": "code",
      "execution_count": 14,
      "metadata": {
        "id": "mlgZqxZm4ZV7",
        "cellView": "code"
      },
      "outputs": [],
      "source": [
        "# Build model\n",
        "# Based on: https://www.geeksforgeeks.org/python-image-classification-using-keras/\n",
        "model = models.Sequential()\n",
        "model.add(layers.Conv2D(32, \n",
        "                        (2, 2), \n",
        "                        activation='relu',\n",
        "                        input_shape=sample_shape,padding='same'))\n",
        "model.add(layers.MaxPooling2D(pool_size=(2, 2)))\n",
        "model.add(layers.Conv2D(64, \n",
        "                        (2, 2), \n",
        "                        activation='relu',\n",
        "                        input_shape=sample_shape,padding='same'))\n",
        "model.add(layers.MaxPooling2D(pool_size=(2, 2)))\n",
        "model.add(layers.Conv2D(128, (2, 2),\n",
        "                        activation='relu',padding='same'))\n",
        "model.add(layers.MaxPooling2D(pool_size=(2, 2)))\n",
        "model.add(layers.Conv2D(256, (2, 2),\n",
        "                        activation='relu', padding='same'))\n",
        "model.add(layers.MaxPooling2D(pool_size=(2, 2)))\n",
        "model.add(layers.Conv2D(1024, (2, 2),\n",
        "                       activation='relu', padding='same'))\n",
        "model.add(layers.MaxPooling2D(pool_size=(2, 2)))\n",
        "model.add(layers.Conv2D(1024, (2, 2),\n",
        "                        activation='relu', padding='same'))\n",
        "\n",
        "# Classifier\n",
        "model.add(layers.Flatten())\n",
        "model.add(layers.Dense(1024, activation='relu'))\n",
        "model.add(layers.Dropout(0.4))\n",
        "model.add(layers.Dense(1024, activation='relu'))\n",
        "model.add(layers.Dropout(0.4))\n",
        "model.add(layers.Dense(1024, activation='relu'))\n",
        "model.add(layers.Dropout(0.4))\n",
        "\n",
        "model.add(layers.Dense(len(wake_words), activation='sigmoid'))\n",
        "\n"
      ]
    },
    {
      "cell_type": "code",
      "execution_count": 15,
      "metadata": {
        "id": "iJUO5wib4ZWE",
        "outputId": "c7d437b0-5b17-4edd-aba7-497112b4ec25",
        "colab": {
          "base_uri": "https://localhost:8080/"
        }
      },
      "outputs": [
        {
          "output_type": "stream",
          "name": "stdout",
          "text": [
            "Model: \"sequential\"\n",
            "_________________________________________________________________\n",
            " Layer (type)                Output Shape              Param #   \n",
            "=================================================================\n",
            " conv2d (Conv2D)             (None, 32, 32, 32)        160       \n",
            "                                                                 \n",
            " max_pooling2d (MaxPooling2D  (None, 16, 16, 32)       0         \n",
            " )                                                               \n",
            "                                                                 \n",
            " conv2d_1 (Conv2D)           (None, 16, 16, 64)        8256      \n",
            "                                                                 \n",
            " max_pooling2d_1 (MaxPooling  (None, 8, 8, 64)         0         \n",
            " 2D)                                                             \n",
            "                                                                 \n",
            " conv2d_2 (Conv2D)           (None, 8, 8, 128)         32896     \n",
            "                                                                 \n",
            " max_pooling2d_2 (MaxPooling  (None, 4, 4, 128)        0         \n",
            " 2D)                                                             \n",
            "                                                                 \n",
            " conv2d_3 (Conv2D)           (None, 4, 4, 256)         131328    \n",
            "                                                                 \n",
            " max_pooling2d_3 (MaxPooling  (None, 2, 2, 256)        0         \n",
            " 2D)                                                             \n",
            "                                                                 \n",
            " conv2d_4 (Conv2D)           (None, 2, 2, 1024)        1049600   \n",
            "                                                                 \n",
            " max_pooling2d_4 (MaxPooling  (None, 1, 1, 1024)       0         \n",
            " 2D)                                                             \n",
            "                                                                 \n",
            " conv2d_5 (Conv2D)           (None, 1, 1, 1024)        4195328   \n",
            "                                                                 \n",
            " flatten (Flatten)           (None, 1024)              0         \n",
            "                                                                 \n",
            " dense (Dense)               (None, 1024)              1049600   \n",
            "                                                                 \n",
            " dropout (Dropout)           (None, 1024)              0         \n",
            "                                                                 \n",
            " dense_1 (Dense)             (None, 1024)              1049600   \n",
            "                                                                 \n",
            " dropout_1 (Dropout)         (None, 1024)              0         \n",
            "                                                                 \n",
            " dense_2 (Dense)             (None, 1024)              1049600   \n",
            "                                                                 \n",
            " dropout_2 (Dropout)         (None, 1024)              0         \n",
            "                                                                 \n",
            " dense_3 (Dense)             (None, 20)                20500     \n",
            "                                                                 \n",
            "=================================================================\n",
            "Total params: 8,586,868\n",
            "Trainable params: 8,586,868\n",
            "Non-trainable params: 0\n",
            "_________________________________________________________________\n"
          ]
        }
      ],
      "source": [
        "# Display model\n",
        "model.summary()"
      ]
    },
    {
      "cell_type": "code",
      "execution_count": 16,
      "metadata": {
        "id": "RFVG0Myr4ZWH"
      },
      "outputs": [],
      "source": [
        "# Add training parameters to model\n",
        "model.compile(loss='binary_crossentropy',\n",
        "              optimizer='adam',\n",
        "              loss_weights=[1, 100],\n",
        "              metrics=['acc', metrics.Precision(), metrics.Recall()])\n",
        "callback = tf.keras.callbacks.EarlyStopping(monitor='loss', patience=3)\n"
      ]
    },
    {
      "cell_type": "code",
      "execution_count": 17,
      "metadata": {
        "scrolled": true,
        "id": "j-9m5DBe4ZWS",
        "colab": {
          "base_uri": "https://localhost:8080/"
        },
        "outputId": "68991ab7-7733-473a-9c21-b23730eeda03"
      },
      "outputs": [
        {
          "output_type": "stream",
          "name": "stdout",
          "text": [
            "Epoch 1/50\n",
            "265/265 [==============================] - 25s 39ms/step - loss: 0.1972 - acc: 0.1387 - precision: 0.1804 - recall: 0.0108 - val_loss: 0.1587 - val_acc: 0.3144 - val_precision: 0.6607 - val_recall: 0.1337\n",
            "Epoch 2/50\n",
            "265/265 [==============================] - 9s 35ms/step - loss: 0.1368 - acc: 0.3990 - precision: 0.7160 - recall: 0.2138 - val_loss: 0.1119 - val_acc: 0.5079 - val_precision: 0.7526 - val_recall: 0.3679\n",
            "Epoch 3/50\n",
            "265/265 [==============================] - 9s 36ms/step - loss: 0.0957 - acc: 0.5973 - precision: 0.8077 - recall: 0.4486 - val_loss: 0.0769 - val_acc: 0.6871 - val_precision: 0.8415 - val_recall: 0.5838\n",
            "Epoch 4/50\n",
            "265/265 [==============================] - 10s 36ms/step - loss: 0.0705 - acc: 0.7254 - precision: 0.8495 - recall: 0.6316 - val_loss: 0.0636 - val_acc: 0.7591 - val_precision: 0.8430 - val_recall: 0.7029\n",
            "Epoch 5/50\n",
            "265/265 [==============================] - 10s 36ms/step - loss: 0.0563 - acc: 0.7829 - precision: 0.8730 - recall: 0.7203 - val_loss: 0.0583 - val_acc: 0.7795 - val_precision: 0.8609 - val_recall: 0.7257\n",
            "Epoch 6/50\n",
            "265/265 [==============================] - 10s 37ms/step - loss: 0.0472 - acc: 0.8240 - precision: 0.8969 - recall: 0.7740 - val_loss: 0.0505 - val_acc: 0.8062 - val_precision: 0.8679 - val_recall: 0.7664\n",
            "Epoch 7/50\n",
            "265/265 [==============================] - 10s 37ms/step - loss: 0.0407 - acc: 0.8482 - precision: 0.9096 - recall: 0.8097 - val_loss: 0.0462 - val_acc: 0.8259 - val_precision: 0.8807 - val_recall: 0.7937\n",
            "Epoch 8/50\n",
            "265/265 [==============================] - 10s 38ms/step - loss: 0.0375 - acc: 0.8599 - precision: 0.9168 - recall: 0.8263 - val_loss: 0.0497 - val_acc: 0.8038 - val_precision: 0.8638 - val_recall: 0.7667\n",
            "Epoch 9/50\n",
            "265/265 [==============================] - 11s 42ms/step - loss: 0.0333 - acc: 0.8779 - precision: 0.9273 - recall: 0.8473 - val_loss: 0.0469 - val_acc: 0.8326 - val_precision: 0.8811 - val_recall: 0.8108\n",
            "Epoch 10/50\n",
            "265/265 [==============================] - 11s 40ms/step - loss: 0.0298 - acc: 0.8923 - precision: 0.9337 - recall: 0.8660 - val_loss: 0.0460 - val_acc: 0.8305 - val_precision: 0.8781 - val_recall: 0.8077\n",
            "Epoch 11/50\n",
            "265/265 [==============================] - 10s 39ms/step - loss: 0.0279 - acc: 0.8996 - precision: 0.9381 - recall: 0.8761 - val_loss: 0.0441 - val_acc: 0.8472 - val_precision: 0.8900 - val_recall: 0.8281\n",
            "Epoch 12/50\n",
            "265/265 [==============================] - 10s 38ms/step - loss: 0.0241 - acc: 0.9117 - precision: 0.9461 - recall: 0.8914 - val_loss: 0.0438 - val_acc: 0.8493 - val_precision: 0.8931 - val_recall: 0.8275\n",
            "Epoch 13/50\n",
            "265/265 [==============================] - 10s 38ms/step - loss: 0.0228 - acc: 0.9185 - precision: 0.9487 - recall: 0.8992 - val_loss: 0.0450 - val_acc: 0.8515 - val_precision: 0.8906 - val_recall: 0.8308\n",
            "Epoch 14/50\n",
            "265/265 [==============================] - 10s 38ms/step - loss: 0.0208 - acc: 0.9275 - precision: 0.9532 - recall: 0.9100 - val_loss: 0.0428 - val_acc: 0.8530 - val_precision: 0.8920 - val_recall: 0.8433\n",
            "Epoch 15/50\n",
            "265/265 [==============================] - 10s 38ms/step - loss: 0.0184 - acc: 0.9347 - precision: 0.9590 - recall: 0.9204 - val_loss: 0.0467 - val_acc: 0.8533 - val_precision: 0.8882 - val_recall: 0.8372\n",
            "Epoch 16/50\n",
            "265/265 [==============================] - 10s 38ms/step - loss: 0.0190 - acc: 0.9350 - precision: 0.9580 - recall: 0.9194 - val_loss: 0.0478 - val_acc: 0.8493 - val_precision: 0.8842 - val_recall: 0.8399\n",
            "Epoch 17/50\n",
            "265/265 [==============================] - 10s 38ms/step - loss: 0.0173 - acc: 0.9390 - precision: 0.9608 - recall: 0.9261 - val_loss: 0.0537 - val_acc: 0.8411 - val_precision: 0.8719 - val_recall: 0.8269\n",
            "Epoch 18/50\n",
            "265/265 [==============================] - 10s 38ms/step - loss: 0.0157 - acc: 0.9464 - precision: 0.9642 - recall: 0.9345 - val_loss: 0.0497 - val_acc: 0.8430 - val_precision: 0.8730 - val_recall: 0.8354\n",
            "Epoch 19/50\n",
            "265/265 [==============================] - 10s 38ms/step - loss: 0.0156 - acc: 0.9477 - precision: 0.9643 - recall: 0.9358 - val_loss: 0.0495 - val_acc: 0.8566 - val_precision: 0.8849 - val_recall: 0.8475\n",
            "Epoch 20/50\n",
            "265/265 [==============================] - 10s 38ms/step - loss: 0.0142 - acc: 0.9526 - precision: 0.9676 - recall: 0.9422 - val_loss: 0.0504 - val_acc: 0.8551 - val_precision: 0.8801 - val_recall: 0.8454\n",
            "Epoch 21/50\n",
            "265/265 [==============================] - 10s 38ms/step - loss: 0.0118 - acc: 0.9589 - precision: 0.9716 - recall: 0.9507 - val_loss: 0.0528 - val_acc: 0.8533 - val_precision: 0.8775 - val_recall: 0.8466\n",
            "Epoch 22/50\n",
            "265/265 [==============================] - 10s 38ms/step - loss: 0.0134 - acc: 0.9562 - precision: 0.9694 - recall: 0.9468 - val_loss: 0.0487 - val_acc: 0.8633 - val_precision: 0.8868 - val_recall: 0.8521\n",
            "Epoch 23/50\n",
            "265/265 [==============================] - 10s 38ms/step - loss: 0.0126 - acc: 0.9613 - precision: 0.9724 - recall: 0.9527 - val_loss: 0.0542 - val_acc: 0.8451 - val_precision: 0.8685 - val_recall: 0.8326\n",
            "Epoch 24/50\n",
            "265/265 [==============================] - 10s 38ms/step - loss: 0.0096 - acc: 0.9680 - precision: 0.9772 - recall: 0.9611 - val_loss: 0.0603 - val_acc: 0.8472 - val_precision: 0.8702 - val_recall: 0.8390\n",
            "Epoch 25/50\n",
            "265/265 [==============================] - 10s 37ms/step - loss: 0.0107 - acc: 0.9650 - precision: 0.9750 - recall: 0.9581 - val_loss: 0.0570 - val_acc: 0.8405 - val_precision: 0.8685 - val_recall: 0.8326\n",
            "Epoch 26/50\n",
            "265/265 [==============================] - 10s 38ms/step - loss: 0.0109 - acc: 0.9643 - precision: 0.9744 - recall: 0.9564 - val_loss: 0.0535 - val_acc: 0.8551 - val_precision: 0.8786 - val_recall: 0.8484\n",
            "Epoch 27/50\n",
            "265/265 [==============================] - 10s 38ms/step - loss: 0.0113 - acc: 0.9638 - precision: 0.9740 - recall: 0.9562 - val_loss: 0.0666 - val_acc: 0.8393 - val_precision: 0.8555 - val_recall: 0.8344\n"
          ]
        }
      ],
      "source": [
        "# Train\n",
        "history = model.fit(x_train,\n",
        "                    ys_train,\n",
        "                    epochs=50,\n",
        "                    batch_size=100,\n",
        "                    validation_data=(x_val, ys_val),\n",
        "                    callbacks=[callback],\n",
        "                   )"
      ]
    },
    {
      "cell_type": "code",
      "execution_count": 18,
      "metadata": {
        "id": "HI8bbHJO4ZWT",
        "outputId": "8c34caad-c848-4975-8724-ff3e044b4c5e",
        "colab": {
          "base_uri": "https://localhost:8080/",
          "height": 1000
        }
      },
      "outputs": [
        {
          "output_type": "display_data",
          "data": {
            "text/plain": [
              "<Figure size 432x288 with 1 Axes>"
            ],
            "image/png": "[encoded data removed]"
          },
          "metadata": {
            "needs_background": "light"
          }
        },
        {
          "output_type": "display_data",
          "data": {
            "text/plain": [
              "<Figure size 432x288 with 1 Axes>"
            ],
            "image/png": "[encoded data removed]"
          },
          "metadata": {
            "needs_background": "light"
          }
        },
        {
          "output_type": "display_data",
          "data": {
            "text/plain": [
              "<Figure size 432x288 with 1 Axes>"
            ],
            "image/png": "[encoded data removed]"
          },
          "metadata": {
            "needs_background": "light"
          }
        },
        {
          "output_type": "display_data",
          "data": {
            "text/plain": [
              "<Figure size 432x288 with 1 Axes>"
            ],
            "image/png": "[encoded data removed]"
          },
          "metadata": {
            "needs_background": "light"
          }
        }
      ],
      "source": [
        "# Plot results\n",
        "import matplotlib.pyplot as plt\n",
        "\n",
        " \n",
        "\n",
        "acc = history.history['acc']\n",
        "val_acc = history.history['val_acc']\n",
        "loss = history.history['loss']\n",
        "val_loss = history.history['val_loss']\n",
        "recall = history.history['recall']\n",
        "val_recall = history.history['val_recall']\n",
        "precision = history.history['precision']\n",
        "val_precision = history.history['val_precision']\n",
        "\n",
        " \n",
        "\n",
        "\n",
        "epochs = range(1, len(acc) + 1)\n",
        "\n",
        " \n",
        "\n",
        "plt.plot(epochs, acc, 'bo', label='Training acc')\n",
        "plt.plot(epochs, val_acc, 'b', label='Validation acc')\n",
        "plt.title('Training and validation accuracy')\n",
        "plt.legend()\n",
        "\n",
        " \n",
        "\n",
        "plt.figure()\n",
        "\n",
        " \n",
        "\n",
        "plt.plot(epochs, loss, 'bo', label='Training loss')\n",
        "plt.plot(epochs, val_loss, 'b', label='Validation loss')\n",
        "plt.title('Training and validation loss')\n",
        "plt.legend()\n",
        "plt.savefig('Training_and_validation_loss.png')\n",
        "\n",
        " \n",
        "\n",
        "plt.show()\n",
        "\n",
        " \n",
        "\n",
        "\n",
        "plt.figure()\n",
        "\n",
        " \n",
        "\n",
        "plt.plot(epochs, precision, 'bo', label='Training precision')\n",
        "plt.plot(epochs, val_precision, 'b', label='Validation precision')\n",
        "plt.title('Training and validation precision')\n",
        "plt.legend()\n",
        "plt.savefig('Training_and_validation_precision.png')\n",
        "\n",
        " \n",
        "\n",
        "plt.show()\n",
        "\n",
        " \n",
        "\n",
        "plt.figure()\n",
        "\n",
        " \n",
        "\n",
        "plt.plot(epochs, recall, 'bo', label='Training recall')\n",
        "plt.plot(epochs, val_recall, 'b', label='Validation recall')\n",
        "plt.title('Training and validation recall')\n",
        "plt.legend()\n",
        "plt.savefig('Training_and_validation_recall.png')\n",
        "\n",
        " \n",
        "\n",
        "plt.show()"
      ]
    },
    {
      "cell_type": "code",
      "execution_count": 19,
      "metadata": {
        "id": "b0x_Ly-x4ZWU",
        "outputId": "9af6fecc-ff6a-489b-ba55-98d5abff372f",
        "colab": {
          "base_uri": "https://localhost:8080/"
        }
      },
      "outputs": [
        {
          "output_type": "stream",
          "name": "stdout",
          "text": [
            "105/105 [==============================] - 1s 7ms/step - loss: 0.0647 - acc: 0.8557 - precision: 0.8747 - recall: 0.8482\n"
          ]
        },
        {
          "output_type": "execute_result",
          "data": {
            "text/plain": [
              "[0.06472723931074142,\n",
              " 0.8556855916976929,\n",
              " 0.874690592288971,\n",
              " 0.8481848239898682]"
            ]
          },
          "metadata": {},
          "execution_count": 19
        }
      ],
      "source": [
        "# Save the model as a file\n",
        "models.save_model(model, model_filename)\n",
        "\n",
        "# See which are stop'\n",
        "#for idx, y in enumerate(y_test):\n",
        "#    if y == 1:\n",
        "#        print(idx)\n",
        "\n",
        "# TEST: Load model and run it against test set\n",
        "#model = models.load_model(model_filename)\n",
        "#for i in range(100, 200):\n",
        "#    print('Answer:', y_test[i], ' Prediction:', model.predict(np.expand_dims(x_test[i], 0)))\n",
        "\n",
        "# Evaluate model with test set\n",
        "model.evaluate(x=x_test, y=ys_test)"
      ]
    },
    {
      "cell_type": "code",
      "execution_count": 20,
      "metadata": {
        "id": "Z4e51Ltj4ZWV",
        "outputId": "3e847410-7bd1-42c2-a7aa-01976b06410a",
        "colab": {
          "base_uri": "https://localhost:8080/"
        }
      },
      "outputs": [
        {
          "output_type": "execute_result",
          "data": {
            "text/plain": [
              "['bed',\n",
              " 'bird',\n",
              " 'wow',\n",
              " 'seven',\n",
              " 'dog',\n",
              " 'off',\n",
              " 'cat',\n",
              " 'zero',\n",
              " 'forward',\n",
              " 'visual',\n",
              " 'follow',\n",
              " 'down',\n",
              " 'go',\n",
              " 'left',\n",
              " 'no',\n",
              " 'right',\n",
              " 'stop',\n",
              " 'up',\n",
              " 'yes',\n",
              " 'backward']"
            ]
          },
          "metadata": {},
          "execution_count": 20
        }
      ],
      "source": [
        "all_targets"
      ]
    },
    {
      "cell_type": "code",
      "execution_count": null,
      "metadata": {
        "id": "UhFXTYQh4ZWW"
      },
      "outputs": [],
      "source": [
        ""
      ]
    }
  ],
  "metadata": {
    "kernelspec": {
      "display_name": "Python 3 (ipykernel)",
      "language": "python",
      "name": "python3"
    },
    "language_info": {
      "codemirror_mode": {
        "name": "ipython",
        "version": 3
      },
      "file_extension": ".py",
      "mimetype": "text/x-python",
      "name": "python",
      "nbconvert_exporter": "python",
      "pygments_lexer": "ipython3",
      "version": "3.9.7"
    },
    "colab": {
      "name": "training.ipynb",
      "provenance": [],
      "include_colab_link": true
    },
    "accelerator": "GPU",
    "gpuClass": "standard"
  },
  "nbformat": 4,
  "nbformat_minor": 0
}