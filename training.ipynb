{
  "cells": [
    {
      "cell_type": "markdown",
      "metadata": {
        "id": "view-in-github",
        "colab_type": "text"
      },
      "source": [
        "<a href=\"https://colab.research.google.com/github/Ananas1Anass/Speech-Recognition/blob/main/training.ipynb\" target=\"_parent\"><img src=\"https://colab.research.google.com/assets/colab-badge.svg\" alt=\"Open In Colab\"/></a>"
      ]
    },
    {
      "cell_type": "code",
      "source": [
        "!unzip -u \"/content/drive/MyDrive/normalized1.zip\" -d \"/content/drive/MyDrive/dataset_port\""
      ],
      "metadata": {
        "id": "hNLC835G5ZUk"
      },
      "execution_count": null,
      "outputs": []
    },
    {
      "cell_type": "code",
      "source": [
        "!ls /content/drive/MyDrive/dataset_port/normalized1\n"
      ],
      "metadata": {
        "colab": {
          "base_uri": "https://localhost:8080/"
        },
        "id": "KceQZ1mg9DJo",
        "outputId": "c5eb163c-adcd-4e8f-e632-71e8cef41110"
      },
      "execution_count": null,
      "outputs": [
        {
          "output_type": "stream",
          "name": "stdout",
          "text": [
            "Ajuda\t    Arma\t _background_noise_  Policia  Segurenca\n",
            "Ambulancia  Assassinato  Faca\t\t     Roubo\n"
          ]
        }
      ]
    },
    {
      "cell_type": "markdown",
      "source": [
        ""
      ],
      "metadata": {
        "id": "n5l58Ty36_q8"
      }
    },
    {
      "cell_type": "code",
      "source": [
        "!unzip -u \"/content/drive/MyDrive/data_Anass.zip\" -d \"/content/drive/MyDrive/dataset_eng\""
      ],
      "metadata": {
        "id": "vh62Ca6Z5vAD"
      },
      "execution_count": null,
      "outputs": []
    },
    {
      "cell_type": "code",
      "source": [
        "!ls /content/drive/MyDrive/dataset_eng/data_Anass/\n"
      ],
      "metadata": {
        "colab": {
          "base_uri": "https://localhost:8080/"
        },
        "id": "z1rymgih9Ocv",
        "outputId": "17a58995-8a14-4fcc-921a-f27b1fe43cea"
      },
      "execution_count": null,
      "outputs": [
        {
          "output_type": "stream",
          "name": "stdout",
          "text": [
            "_background_noise_  bird  down\t   go\t off\tstop\twow\n",
            "backward\t    cat   follow   left  right\tup\tyes\n",
            "bed\t\t    dog   forward  no\t seven\tvisual\tzero\n"
          ]
        }
      ]
    },
    {
      "cell_type": "code",
      "source": [
        "from google.colab import drive\n",
        "drive.mount('/content/drive',force_remount=True)"
      ],
      "metadata": {
        "colab": {
          "base_uri": "https://localhost:8080/"
        },
        "id": "_dN0WIzr5BRB",
        "outputId": "63f56e2c-3ce7-4b34-f3cd-2e71ba93707e"
      },
      "execution_count": null,
      "outputs": [
        {
          "output_type": "stream",
          "name": "stdout",
          "text": [
            "Mounted at /content/drive\n"
          ]
        }
      ]
    },
    {
      "cell_type": "code",
      "execution_count": null,
      "metadata": {
        "id": "Aa3UvwcC4ZU_"
      },
      "outputs": [],
      "source": [
        "from os import listdir\n",
        "from os.path import isdir, join\n",
        "from tensorflow.keras import layers, models, metrics\n",
        "import tensorflow as tf\n",
        "import numpy as np"
      ]
    },
    {
      "cell_type": "code",
      "execution_count": null,
      "metadata": {
        "id": "V2lL9KmW4ZVH"
      },
      "outputs": [],
      "source": [
        "# Create list of all targets (minus background noise)\n",
        "dataset_path = '/content/drive/MyDrive/dataset_eng/data_Anass/'\n",
        "all_targets = all_targets = [name for name in listdir(dataset_path) if isdir(join(dataset_path, name))]\n",
        "all_targets.remove('_background_noise_')"
      ]
    },
    {
      "cell_type": "code",
      "source": [
        "!ls /content/drive/MyDrive/dataset_eng/"
      ],
      "metadata": {
        "colab": {
          "base_uri": "https://localhost:8080/"
        },
        "id": "PFHcHjU8BZcd",
        "outputId": "cf2b259a-d8c2-4f32-9bd7-919f7e826388"
      },
      "execution_count": null,
      "outputs": [
        {
          "output_type": "stream",
          "name": "stdout",
          "text": [
            "data_Anass  targets_mfcc_32_eng.npz  targets_mfcc_32_port.npz\n"
          ]
        }
      ]
    },
    {
      "cell_type": "code",
      "execution_count": null,
      "metadata": {
        "id": "BIy930zq4ZVP",
        "colab": {
          "base_uri": "https://localhost:8080/"
        },
        "outputId": "f57378e7-d149-45a4-dcd9-c2c753ed1927"
      },
      "outputs": [
        {
          "output_type": "stream",
          "name": "stdout",
          "text": [
            "['x_train', 'y_train', 'x_val', 'y_val', 'x_test', 'y_test']\n"
          ]
        }
      ],
      "source": [
        "# Settings\n",
        "feature_sets_path = '/content/'\n",
        "feature_sets_filename = 'targets_mfcc_32_eng.npz'\n",
        "wake_words = all_targets\n",
        "joined_wake_words = '_'.join(wake_words)\n",
        "model_filename = f'/content/drive/MyDrive/dataset_eng/wake_words_{joined_wake_words}_work.h5'\n",
        "# Load feature sets\n",
        "feature_sets = np.load(join(feature_sets_path, feature_sets_filename))\n",
        "print(feature_sets.files)"
      ]
    },
    {
      "cell_type": "code",
      "execution_count": null,
      "metadata": {
        "id": "mmX6jRrM4ZVa"
      },
      "outputs": [],
      "source": [
        "# Assign feature sets\n",
        "x_train = feature_sets['x_train']\n",
        "y_train = feature_sets['y_train']\n",
        "x_val = feature_sets['x_val']\n",
        "y_val = feature_sets['y_val']\n",
        "x_test = feature_sets['x_test']\n",
        "y_test = feature_sets['y_test']"
      ]
    },
    {
      "cell_type": "code",
      "execution_count": null,
      "metadata": {
        "id": "yAgEsGb44ZVb",
        "outputId": "35ee6057-9232-48f8-f757-76afc7cadbf1",
        "colab": {
          "base_uri": "https://localhost:8080/"
        }
      },
      "outputs": [
        {
          "output_type": "stream",
          "name": "stdout",
          "text": [
            "(26417, 32, 32)\n",
            "(3292, 32, 32)\n",
            "(3333, 32, 32)\n",
            "[10. 10. 19. ...  1.  6. 15.]\n"
          ]
        }
      ],
      "source": [
        "# Look at tensor dimensions\n",
        "print(x_train.shape)\n",
        "print(x_val.shape)\n",
        "print(x_test.shape)\n",
        "# Peek at labels\n",
        "print(y_val)"
      ]
    },
    {
      "cell_type": "code",
      "execution_count": null,
      "metadata": {
        "id": "CxLzXu7I4ZVs"
      },
      "outputs": [],
      "source": [
        "# Convert ground truth arrays to one wake word (1) and 'other' (0)\n",
        "wake_words_indexes = [all_targets.index(wake_word) for wake_word in wake_words]\n",
        "ys_train = np.array(list(map(np.array, zip(*[np.equal(y_train, wake_word_index).astype('float64') for wake_word_index in wake_words_indexes]))))\n",
        "ys_val = np.array(list(map(np.array, zip(*[np.equal(y_val, wake_word_index).astype('float64') for wake_word_index in wake_words_indexes]))))\n",
        "ys_test = np.array(list(map(np.array, zip(*[np.equal(y_test, wake_word_index).astype('float64') for wake_word_index in wake_words_indexes]))))"
      ]
    },
    {
      "cell_type": "code",
      "execution_count": null,
      "metadata": {
        "tags": [],
        "id": "8Sn6iIlB4ZVz",
        "outputId": "04176e1f-4f19-4c7b-abb6-74d598bf1031",
        "colab": {
          "base_uri": "https://localhost:8080/"
        }
      },
      "outputs": [
        {
          "output_type": "stream",
          "name": "stdout",
          "text": [
            "(0.11755771567436209, 0.027946537059538274, 0.050729040097205344, 0.02703523693803159, 0.05133657351154314, 0.028250303766707167, 0.04495747266099635, 0.05224787363304982, 0.050729040097205344, 0.04374240583232078, 0.10814094775212636, 0.04981773997569866, 0.027946537059538274, 0.022174969623329283, 0.051944106925880924, 0.02399756986634265, 0.024301336573511544, 0.02551640340218712, 0.04981773997569866, 0.12181044957472661)\n"
          ]
        }
      ],
      "source": [
        "print(tuple(sum(y_val) / len(y_val) for y_val in zip(*ys_val)))"
      ]
    },
    {
      "cell_type": "code",
      "execution_count": null,
      "metadata": {
        "id": "OIVlRlVX4ZV1",
        "outputId": "3f9bd6b4-3090-4032-a4cd-173a120f22db",
        "colab": {
          "base_uri": "https://localhost:8080/"
        }
      },
      "outputs": [
        {
          "output_type": "stream",
          "name": "stdout",
          "text": [
            "(26417, 32, 32, 1)\n",
            "(3292, 32, 32, 1)\n",
            "(3333, 32, 32, 1)\n",
            "(32, 32, 1)\n"
          ]
        }
      ],
      "source": [
        "# CNN for TF expects (batch, height, width, channels)\n",
        "# So we reshape the input tensors with a \"color\" channel of 1\n",
        "x_train = x_train.reshape(x_train.shape[0],\n",
        "                          x_train.shape[1],\n",
        "                          x_train.shape[2],\n",
        "                          1)\n",
        "x_val = x_val.reshape(x_val.shape[0],\n",
        "                      x_val.shape[1],\n",
        "                      x_val.shape[2],\n",
        "                      1)\n",
        "x_test = x_test.reshape(x_test.shape[0],\n",
        "                        x_test.shape[1],\n",
        "                        x_test.shape[2],\n",
        "                        1)\n",
        "print(x_train.shape)\n",
        "print(x_val.shape)\n",
        "print(x_test.shape)\n",
        "\n",
        "# Input shape for CNN is size of MFCC of 1 sample\n",
        "sample_shape = x_test.shape[1:]\n",
        "print(sample_shape)"
      ]
    },
    {
      "cell_type": "code",
      "execution_count": null,
      "metadata": {
        "id": "mlgZqxZm4ZV7"
      },
      "outputs": [],
      "source": [
        "# Build model\n",
        "# Based on: https://www.geeksforgeeks.org/python-image-classification-using-keras/\n",
        "model = models.Sequential()\n",
        "model.add(layers.Conv2D(32, \n",
        "                        (2, 2), \n",
        "                        activation='relu',\n",
        "                        input_shape=sample_shape,padding='same'))\n",
        "model.add(layers.MaxPooling2D(pool_size=(2, 2)))\n",
        "model.add(layers.Conv2D(64, \n",
        "                        (2, 2), \n",
        "                        activation='relu',\n",
        "                        input_shape=sample_shape,padding='same'))\n",
        "model.add(layers.MaxPooling2D(pool_size=(2, 2)))\n",
        "model.add(layers.Conv2D(128, (2, 2),\n",
        "                        activation='relu',padding='same'))\n",
        "model.add(layers.MaxPooling2D(pool_size=(2, 2)))\n",
        "model.add(layers.Conv2D(256, (2, 2),\n",
        "                        activation='relu', padding='same'))\n",
        "model.add(layers.MaxPooling2D(pool_size=(2, 2)))\n",
        "model.add(layers.Conv2D(1024, (2, 2),\n",
        "                       activation='relu', padding='same'))\n",
        "#model.add(layers.MaxPooling2D(pool_size=(2, 2)))\n",
        "#model.add(layers.Conv2D(1024, (2, 2),\n",
        "                        #activation='relu', padding='same'))\n",
        "\n",
        "# Classifier\n",
        "model.add(layers.Flatten())\n",
        "model.add(layers.Dense(1024, activation='relu'))\n",
        "model.add(layers.Dropout(0.4))\n",
        "model.add(layers.Dense(1024, activation='relu'))\n",
        "model.add(layers.Dropout(0.4))\n",
        "model.add(layers.Dense(1024, activation='relu'))\n",
        "model.add(layers.Dropout(0.4))\n",
        "\n",
        "model.add(layers.Dense(len(wake_words), activation='sigmoid'))\n",
        "\n"
      ]
    },
    {
      "cell_type": "code",
      "execution_count": null,
      "metadata": {
        "id": "iJUO5wib4ZWE",
        "outputId": "0ab27145-c952-4e5a-dc79-5adbb93d7767",
        "colab": {
          "base_uri": "https://localhost:8080/"
        }
      },
      "outputs": [
        {
          "output_type": "stream",
          "name": "stdout",
          "text": [
            "Model: \"sequential_3\"\n",
            "_________________________________________________________________\n",
            " Layer (type)                Output Shape              Param #   \n",
            "=================================================================\n",
            " conv2d_16 (Conv2D)          (None, 32, 32, 32)        160       \n",
            "                                                                 \n",
            " max_pooling2d_14 (MaxPoolin  (None, 16, 16, 32)       0         \n",
            " g2D)                                                            \n",
            "                                                                 \n",
            " conv2d_17 (Conv2D)          (None, 16, 16, 64)        8256      \n",
            "                                                                 \n",
            " max_pooling2d_15 (MaxPoolin  (None, 8, 8, 64)         0         \n",
            " g2D)                                                            \n",
            "                                                                 \n",
            " conv2d_18 (Conv2D)          (None, 8, 8, 128)         32896     \n",
            "                                                                 \n",
            " max_pooling2d_16 (MaxPoolin  (None, 4, 4, 128)        0         \n",
            " g2D)                                                            \n",
            "                                                                 \n",
            " conv2d_19 (Conv2D)          (None, 4, 4, 256)         131328    \n",
            "                                                                 \n",
            " max_pooling2d_17 (MaxPoolin  (None, 2, 2, 256)        0         \n",
            " g2D)                                                            \n",
            "                                                                 \n",
            " conv2d_20 (Conv2D)          (None, 2, 2, 1024)        1049600   \n",
            "                                                                 \n",
            " flatten_3 (Flatten)         (None, 4096)              0         \n",
            "                                                                 \n",
            " dense_12 (Dense)            (None, 1024)              4195328   \n",
            "                                                                 \n",
            " dropout_9 (Dropout)         (None, 1024)              0         \n",
            "                                                                 \n",
            " dense_13 (Dense)            (None, 1024)              1049600   \n",
            "                                                                 \n",
            " dropout_10 (Dropout)        (None, 1024)              0         \n",
            "                                                                 \n",
            " dense_14 (Dense)            (None, 1024)              1049600   \n",
            "                                                                 \n",
            " dropout_11 (Dropout)        (None, 1024)              0         \n",
            "                                                                 \n",
            " dense_15 (Dense)            (None, 20)                20500     \n",
            "                                                                 \n",
            "=================================================================\n",
            "Total params: 7,537,268\n",
            "Trainable params: 7,537,268\n",
            "Non-trainable params: 0\n",
            "_________________________________________________________________\n"
          ]
        }
      ],
      "source": [
        "# Display model\n",
        "model.summary()"
      ]
    },
    {
      "cell_type": "code",
      "execution_count": null,
      "metadata": {
        "id": "RFVG0Myr4ZWH"
      },
      "outputs": [],
      "source": [
        "# Add training parameters to model\n",
        "model.compile(loss='binary_crossentropy',\n",
        "              optimizer='adam',\n",
        "              loss_weights=[1, 100],\n",
        "              metrics=['acc', metrics.Precision(), metrics.Recall()])"
      ]
    },
    {
      "cell_type": "code",
      "execution_count": null,
      "metadata": {
        "scrolled": true,
        "id": "j-9m5DBe4ZWS",
        "colab": {
          "base_uri": "https://localhost:8080/"
        },
        "outputId": "e075f343-7fd2-4b25-9fdd-a13548ad4df6"
      },
      "outputs": [
        {
          "output_type": "stream",
          "name": "stdout",
          "text": [
            "Epoch 1/50\n",
            "133/133 [==============================] - 263s 2s/step - loss: 0.2115 - acc: 0.1088 - precision_2: 0.0561 - recall_2: 0.0036 - val_loss: 0.1887 - val_acc: 0.1507 - val_precision_2: 0.0000e+00 - val_recall_2: 0.0000e+00\n",
            "Epoch 2/50\n",
            "133/133 [==============================] - 269s 2s/step - loss: 0.1623 - acc: 0.2881 - precision_2: 0.6650 - recall_2: 0.0941 - val_loss: 0.1325 - val_acc: 0.4192 - val_precision_2: 0.5932 - val_recall_2: 0.2968\n",
            "Epoch 3/50\n",
            "133/133 [==============================] - 268s 2s/step - loss: 0.1129 - acc: 0.5090 - precision_2: 0.7429 - recall_2: 0.3273 - val_loss: 0.0915 - val_acc: 0.6087 - val_precision_2: 0.8073 - val_recall_2: 0.4939\n",
            "Epoch 4/50\n",
            "133/133 [==============================] - 267s 2s/step - loss: 0.0840 - acc: 0.6564 - precision_2: 0.8168 - recall_2: 0.5331 - val_loss: 0.0704 - val_acc: 0.7190 - val_precision_2: 0.8299 - val_recall_2: 0.6285\n",
            "Epoch 5/50\n",
            "133/133 [==============================] - 267s 2s/step - loss: 0.0659 - acc: 0.7357 - precision_2: 0.8512 - recall_2: 0.6486 - val_loss: 0.0689 - val_acc: 0.7217 - val_precision_2: 0.8154 - val_recall_2: 0.6546\n",
            "Epoch 6/50\n",
            "133/133 [==============================] - 270s 2s/step - loss: 0.0547 - acc: 0.7873 - precision_2: 0.8774 - recall_2: 0.7207 - val_loss: 0.0566 - val_acc: 0.7813 - val_precision_2: 0.8523 - val_recall_2: 0.7290\n",
            "Epoch 7/50\n",
            "133/133 [==============================] - 267s 2s/step - loss: 0.0458 - acc: 0.8246 - precision_2: 0.8959 - recall_2: 0.7734 - val_loss: 0.0495 - val_acc: 0.8086 - val_precision_2: 0.8662 - val_recall_2: 0.7767\n",
            "Epoch 8/50\n",
            "133/133 [==============================] - 274s 2s/step - loss: 0.0401 - acc: 0.8456 - precision_2: 0.9077 - recall_2: 0.8042 - val_loss: 0.0479 - val_acc: 0.8101 - val_precision_2: 0.8759 - val_recall_2: 0.7804\n",
            "Epoch 9/50\n",
            "133/133 [==============================] - 271s 2s/step - loss: 0.0341 - acc: 0.8709 - precision_2: 0.9222 - recall_2: 0.8373 - val_loss: 0.0466 - val_acc: 0.8275 - val_precision_2: 0.8713 - val_recall_2: 0.8065\n",
            "Epoch 10/50\n",
            "133/133 [==============================] - 266s 2s/step - loss: 0.0301 - acc: 0.8844 - precision_2: 0.9270 - recall_2: 0.8546 - val_loss: 0.0498 - val_acc: 0.8293 - val_precision_2: 0.8665 - val_recall_2: 0.8101\n",
            "Epoch 11/50\n",
            "133/133 [==============================] - 266s 2s/step - loss: 0.0288 - acc: 0.8932 - precision_2: 0.9334 - recall_2: 0.8668 - val_loss: 0.0481 - val_acc: 0.8235 - val_precision_2: 0.8621 - val_recall_2: 0.8074\n",
            "Epoch 12/50\n",
            "133/133 [==============================] - 269s 2s/step - loss: 0.0238 - acc: 0.9109 - precision_2: 0.9439 - recall_2: 0.8887 - val_loss: 0.0445 - val_acc: 0.8378 - val_precision_2: 0.8795 - val_recall_2: 0.8250\n",
            "Epoch 13/50\n",
            "133/133 [==============================] - 273s 2s/step - loss: 0.0223 - acc: 0.9160 - precision_2: 0.9454 - recall_2: 0.8965 - val_loss: 0.0498 - val_acc: 0.8284 - val_precision_2: 0.8644 - val_recall_2: 0.8117\n",
            "Epoch 14/50\n",
            "133/133 [==============================] - 271s 2s/step - loss: 0.0179 - acc: 0.9337 - precision_2: 0.9567 - recall_2: 0.9174 - val_loss: 0.0474 - val_acc: 0.8420 - val_precision_2: 0.8701 - val_recall_2: 0.8305\n",
            "Epoch 15/50\n",
            "133/133 [==============================] - 271s 2s/step - loss: 0.0177 - acc: 0.9358 - precision_2: 0.9569 - recall_2: 0.9193 - val_loss: 0.0531 - val_acc: 0.8272 - val_precision_2: 0.8589 - val_recall_2: 0.8208\n",
            "Epoch 16/50\n",
            "133/133 [==============================] - 273s 2s/step - loss: 0.0167 - acc: 0.9406 - precision_2: 0.9591 - recall_2: 0.9274 - val_loss: 0.0485 - val_acc: 0.8469 - val_precision_2: 0.8697 - val_recall_2: 0.8290\n",
            "Epoch 17/50\n",
            "133/133 [==============================] - 269s 2s/step - loss: 0.0155 - acc: 0.9453 - precision_2: 0.9625 - recall_2: 0.9330 - val_loss: 0.0577 - val_acc: 0.8244 - val_precision_2: 0.8466 - val_recall_2: 0.8217\n",
            "Epoch 18/50\n",
            "133/133 [==============================] - 269s 2s/step - loss: 0.0132 - acc: 0.9529 - precision_2: 0.9672 - recall_2: 0.9432 - val_loss: 0.0519 - val_acc: 0.8475 - val_precision_2: 0.8704 - val_recall_2: 0.8405\n",
            "Epoch 19/50\n",
            "133/133 [==============================] - 266s 2s/step - loss: 0.0107 - acc: 0.9619 - precision_2: 0.9729 - recall_2: 0.9539 - val_loss: 0.0586 - val_acc: 0.8433 - val_precision_2: 0.8608 - val_recall_2: 0.8396\n",
            "Epoch 20/50\n",
            "133/133 [==============================] - 264s 2s/step - loss: 0.0104 - acc: 0.9642 - precision_2: 0.9740 - recall_2: 0.9557 - val_loss: 0.0546 - val_acc: 0.8430 - val_precision_2: 0.8644 - val_recall_2: 0.8387\n",
            "Epoch 21/50\n",
            "133/133 [==============================] - 262s 2s/step - loss: 0.0108 - acc: 0.9631 - precision_2: 0.9726 - recall_2: 0.9548 - val_loss: 0.0580 - val_acc: 0.8351 - val_precision_2: 0.8534 - val_recall_2: 0.8278\n",
            "Epoch 22/50\n",
            "133/133 [==============================] - 262s 2s/step - loss: 0.0096 - acc: 0.9670 - precision_2: 0.9756 - recall_2: 0.9607 - val_loss: 0.0617 - val_acc: 0.8460 - val_precision_2: 0.8649 - val_recall_2: 0.8384\n",
            "Epoch 23/50\n",
            "133/133 [==============================] - 263s 2s/step - loss: 0.0095 - acc: 0.9694 - precision_2: 0.9759 - recall_2: 0.9631 - val_loss: 0.0543 - val_acc: 0.8533 - val_precision_2: 0.8722 - val_recall_2: 0.8460\n",
            "Epoch 24/50\n",
            "133/133 [==============================] - 266s 2s/step - loss: 0.0077 - acc: 0.9743 - precision_2: 0.9790 - recall_2: 0.9691 - val_loss: 0.0610 - val_acc: 0.8436 - val_precision_2: 0.8595 - val_recall_2: 0.8363\n",
            "Epoch 25/50\n",
            "133/133 [==============================] - 265s 2s/step - loss: 0.0069 - acc: 0.9773 - precision_2: 0.9819 - recall_2: 0.9734 - val_loss: 0.0595 - val_acc: 0.8460 - val_precision_2: 0.8637 - val_recall_2: 0.8393\n",
            "Epoch 26/50\n",
            "133/133 [==============================] - 269s 2s/step - loss: 0.0059 - acc: 0.9815 - precision_2: 0.9836 - recall_2: 0.9784 - val_loss: 0.0687 - val_acc: 0.8518 - val_precision_2: 0.8657 - val_recall_2: 0.8457\n",
            "Epoch 27/50\n",
            "133/133 [==============================] - 270s 2s/step - loss: 0.0077 - acc: 0.9761 - precision_2: 0.9800 - recall_2: 0.9707 - val_loss: 0.0692 - val_acc: 0.8354 - val_precision_2: 0.8486 - val_recall_2: 0.8341\n",
            "Epoch 28/50\n",
            "133/133 [==============================] - 275s 2s/step - loss: 0.0063 - acc: 0.9802 - precision_2: 0.9837 - recall_2: 0.9772 - val_loss: 0.0638 - val_acc: 0.8451 - val_precision_2: 0.8570 - val_recall_2: 0.8430\n",
            "Epoch 29/50\n",
            "133/133 [==============================] - 269s 2s/step - loss: 0.0071 - acc: 0.9771 - precision_2: 0.9799 - recall_2: 0.9740 - val_loss: 0.0679 - val_acc: 0.8420 - val_precision_2: 0.8543 - val_recall_2: 0.8408\n",
            "Epoch 30/50\n",
            "133/133 [==============================] - 268s 2s/step - loss: 0.0068 - acc: 0.9785 - precision_2: 0.9813 - recall_2: 0.9746 - val_loss: 0.0630 - val_acc: 0.8515 - val_precision_2: 0.8689 - val_recall_2: 0.8478\n",
            "Epoch 31/50\n",
            "133/133 [==============================] - 264s 2s/step - loss: 0.0055 - acc: 0.9828 - precision_2: 0.9845 - recall_2: 0.9804 - val_loss: 0.0721 - val_acc: 0.8344 - val_precision_2: 0.8494 - val_recall_2: 0.8311\n",
            "Epoch 32/50\n",
            "133/133 [==============================] - 268s 2s/step - loss: 0.0074 - acc: 0.9768 - precision_2: 0.9797 - recall_2: 0.9734 - val_loss: 0.0654 - val_acc: 0.8512 - val_precision_2: 0.8657 - val_recall_2: 0.8496\n",
            "Epoch 33/50\n",
            "133/133 [==============================] - 267s 2s/step - loss: 0.0046 - acc: 0.9863 - precision_2: 0.9877 - recall_2: 0.9841 - val_loss: 0.0698 - val_acc: 0.8502 - val_precision_2: 0.8613 - val_recall_2: 0.8472\n",
            "Epoch 34/50\n",
            "133/133 [==============================] - 265s 2s/step - loss: 0.0067 - acc: 0.9794 - precision_2: 0.9815 - recall_2: 0.9766 - val_loss: 0.0738 - val_acc: 0.8451 - val_precision_2: 0.8564 - val_recall_2: 0.8445\n",
            "Epoch 35/50\n",
            "133/133 [==============================] - 264s 2s/step - loss: 0.0055 - acc: 0.9822 - precision_2: 0.9840 - recall_2: 0.9800 - val_loss: 0.0640 - val_acc: 0.8509 - val_precision_2: 0.8641 - val_recall_2: 0.8460\n",
            "Epoch 36/50\n",
            "133/133 [==============================] - 264s 2s/step - loss: 0.0050 - acc: 0.9850 - precision_2: 0.9863 - recall_2: 0.9830 - val_loss: 0.0698 - val_acc: 0.8481 - val_precision_2: 0.8588 - val_recall_2: 0.8460\n",
            "Epoch 37/50\n",
            "133/133 [==============================] - 265s 2s/step - loss: 0.0051 - acc: 0.9852 - precision_2: 0.9863 - recall_2: 0.9833 - val_loss: 0.0751 - val_acc: 0.8426 - val_precision_2: 0.8561 - val_recall_2: 0.8402\n",
            "Epoch 38/50\n",
            "133/133 [==============================] - 264s 2s/step - loss: 0.0048 - acc: 0.9855 - precision_2: 0.9870 - recall_2: 0.9838 - val_loss: 0.0657 - val_acc: 0.8606 - val_precision_2: 0.8715 - val_recall_2: 0.8609\n",
            "Epoch 39/50\n",
            "133/133 [==============================] - 267s 2s/step - loss: 0.0032 - acc: 0.9904 - precision_2: 0.9914 - recall_2: 0.9894 - val_loss: 0.0727 - val_acc: 0.8469 - val_precision_2: 0.8567 - val_recall_2: 0.8466\n",
            "Epoch 40/50\n",
            "133/133 [==============================] - 269s 2s/step - loss: 0.0043 - acc: 0.9874 - precision_2: 0.9884 - recall_2: 0.9862 - val_loss: 0.0715 - val_acc: 0.8460 - val_precision_2: 0.8596 - val_recall_2: 0.8423\n",
            "Epoch 41/50\n",
            "133/133 [==============================] - 269s 2s/step - loss: 0.0058 - acc: 0.9821 - precision_2: 0.9835 - recall_2: 0.9804 - val_loss: 0.0694 - val_acc: 0.8414 - val_precision_2: 0.8572 - val_recall_2: 0.8332\n",
            "Epoch 42/50\n",
            "133/133 [==============================] - 273s 2s/step - loss: 0.0043 - acc: 0.9871 - precision_2: 0.9884 - recall_2: 0.9862 - val_loss: 0.0722 - val_acc: 0.8433 - val_precision_2: 0.8559 - val_recall_2: 0.8387\n",
            "Epoch 43/50\n",
            "133/133 [==============================] - 274s 2s/step - loss: 0.0039 - acc: 0.9886 - precision_2: 0.9895 - recall_2: 0.9877 - val_loss: 0.0749 - val_acc: 0.8469 - val_precision_2: 0.8599 - val_recall_2: 0.8466\n",
            "Epoch 44/50\n",
            "133/133 [==============================] - 271s 2s/step - loss: 0.0035 - acc: 0.9894 - precision_2: 0.9900 - recall_2: 0.9881 - val_loss: 0.0698 - val_acc: 0.8384 - val_precision_2: 0.8567 - val_recall_2: 0.8338\n",
            "Epoch 45/50\n",
            "133/133 [==============================] - 271s 2s/step - loss: 0.0042 - acc: 0.9880 - precision_2: 0.9886 - recall_2: 0.9865 - val_loss: 0.0814 - val_acc: 0.8351 - val_precision_2: 0.8451 - val_recall_2: 0.8369\n",
            "Epoch 46/50\n",
            "133/133 [==============================] - 272s 2s/step - loss: 0.0041 - acc: 0.9889 - precision_2: 0.9891 - recall_2: 0.9872 - val_loss: 0.0715 - val_acc: 0.8557 - val_precision_2: 0.8645 - val_recall_2: 0.8530\n",
            "Epoch 47/50\n",
            "133/133 [==============================] - 267s 2s/step - loss: 0.0036 - acc: 0.9904 - precision_2: 0.9912 - recall_2: 0.9892 - val_loss: 0.0794 - val_acc: 0.8436 - val_precision_2: 0.8545 - val_recall_2: 0.8423\n",
            "Epoch 48/50\n",
            "133/133 [==============================] - 269s 2s/step - loss: 0.0035 - acc: 0.9907 - precision_2: 0.9914 - recall_2: 0.9896 - val_loss: 0.0781 - val_acc: 0.8594 - val_precision_2: 0.8673 - val_recall_2: 0.8560\n",
            "Epoch 49/50\n",
            "133/133 [==============================] - 269s 2s/step - loss: 0.0034 - acc: 0.9904 - precision_2: 0.9906 - recall_2: 0.9892 - val_loss: 0.0760 - val_acc: 0.8493 - val_precision_2: 0.8561 - val_recall_2: 0.8475\n",
            "Epoch 50/50\n",
            "133/133 [==============================] - 269s 2s/step - loss: 0.0041 - acc: 0.9880 - precision_2: 0.9883 - recall_2: 0.9867 - val_loss: 0.0687 - val_acc: 0.8527 - val_precision_2: 0.8620 - val_recall_2: 0.8521\n"
          ]
        }
      ],
      "source": [
        "# Train\n",
        "history = model.fit(x_train,\n",
        "                    ys_train,\n",
        "                    epochs=50,\n",
        "                    batch_size=200,\n",
        "                   \n",
        "                    validation_data=(x_val, ys_val),\n",
        "                   )"
      ]
    },
    {
      "cell_type": "code",
      "execution_count": null,
      "metadata": {
        "id": "HI8bbHJO4ZWT",
        "outputId": "d5e51758-077a-4874-d9e7-8158facb72bd",
        "colab": {
          "base_uri": "https://localhost:8080/",
          "height": 237
        }
      },
      "outputs": [
        {
          "output_type": "error",
          "ename": "NameError",
          "evalue": "ignored",
          "traceback": [
            "\u001b[0;31m---------------------------------------------------------------------------\u001b[0m",
            "\u001b[0;31mNameError\u001b[0m                                 Traceback (most recent call last)",
            "\u001b[0;32m<ipython-input-6-8dbcc45e1326>\u001b[0m in \u001b[0;36m<module>\u001b[0;34m()\u001b[0m\n\u001b[1;32m      8\u001b[0m \u001b[0;31m#loss = history.history['loss']\u001b[0m\u001b[0;34m\u001b[0m\u001b[0;34m\u001b[0m\u001b[0;34m\u001b[0m\u001b[0m\n\u001b[1;32m      9\u001b[0m \u001b[0;31m#val_loss = history.history['val_loss']\u001b[0m\u001b[0;34m\u001b[0m\u001b[0;34m\u001b[0m\u001b[0;34m\u001b[0m\u001b[0m\n\u001b[0;32m---> 10\u001b[0;31m \u001b[0mrecall\u001b[0m \u001b[0;34m=\u001b[0m \u001b[0mhistory\u001b[0m\u001b[0;34m.\u001b[0m\u001b[0mhistory\u001b[0m\u001b[0;34m[\u001b[0m\u001b[0;34m'recall'\u001b[0m\u001b[0;34m]\u001b[0m\u001b[0;34m\u001b[0m\u001b[0;34m\u001b[0m\u001b[0m\n\u001b[0m\u001b[1;32m     11\u001b[0m \u001b[0mval_recall\u001b[0m \u001b[0;34m=\u001b[0m \u001b[0mhistory\u001b[0m\u001b[0;34m.\u001b[0m\u001b[0mhistory\u001b[0m\u001b[0;34m[\u001b[0m\u001b[0;34m'val_recall'\u001b[0m\u001b[0;34m]\u001b[0m\u001b[0;34m\u001b[0m\u001b[0;34m\u001b[0m\u001b[0m\n\u001b[1;32m     12\u001b[0m \u001b[0mprecision\u001b[0m \u001b[0;34m=\u001b[0m \u001b[0mhistory\u001b[0m\u001b[0;34m.\u001b[0m\u001b[0mhistory\u001b[0m\u001b[0;34m[\u001b[0m\u001b[0;34m'precision'\u001b[0m\u001b[0;34m]\u001b[0m\u001b[0;34m\u001b[0m\u001b[0;34m\u001b[0m\u001b[0m\n",
            "\u001b[0;31mNameError\u001b[0m: name 'history' is not defined"
          ]
        }
      ],
      "source": [
        "# Plot results\n",
        "import matplotlib.pyplot as plt\n",
        "\n",
        " \n",
        "\n",
        "#acc = history.history['acc']\n",
        "#val_acc = history.history['val_acc']\n",
        "#loss = history.history['loss']\n",
        "#val_loss = history.history['val_loss']\n",
        "recall = history.history['recall']\n",
        "val_recall = history.history['val_recall']\n",
        "precision = history.history['precision']\n",
        "val_precision = history.history['val_precision']\n",
        "\n",
        " \n",
        "\n",
        "\n",
        "epochs = range(1, len(acc) + 1)\n",
        "\n",
        " \n",
        "\n",
        "plt.plot(epochs, acc, 'bo', label='Training acc')\n",
        "plt.plot(epochs, val_acc, 'b', label='Validation acc')\n",
        "plt.title('Training and validation accuracy')\n",
        "plt.legend()\n",
        "\n",
        " \n",
        "\n",
        "plt.figure()\n",
        "\n",
        " \n",
        "\n",
        "plt.plot(epochs, loss, 'bo', label='Training loss')\n",
        "plt.plot(epochs, val_loss, 'b', label='Validation loss')\n",
        "plt.title('Training and validation loss')\n",
        "plt.legend()\n",
        "plt.savefig('Training_and_validation_loss.png')\n",
        "\n",
        " \n",
        "\n",
        "plt.show()\n",
        "\n",
        " \n",
        "\n",
        "\n",
        "plt.figure()\n",
        "\n",
        " \n",
        "\n",
        "plt.plot(epochs, precision, 'bo', label='Training precision')\n",
        "plt.plot(epochs, val_precision, 'b', label='Validation precision')\n",
        "plt.title('Training and validation precision')\n",
        "plt.legend()\n",
        "plt.savefig('Training_and_validation_precision.png')\n",
        "\n",
        " \n",
        "\n",
        "plt.show()\n",
        "\n",
        " \n",
        "\n",
        "plt.figure()\n",
        "\n",
        " \n",
        "\n",
        "plt.plot(epochs, recall, 'bo', label='Training recall')\n",
        "plt.plot(epochs, val_recall, 'b', label='Validation recall')\n",
        "plt.title('Training and validation recall')\n",
        "plt.legend()\n",
        "plt.savefig('Training_and_validation_recall.png')\n",
        "\n",
        " \n",
        "\n",
        "plt.show()"
      ]
    },
    {
      "cell_type": "code",
      "execution_count": null,
      "metadata": {
        "id": "b0x_Ly-x4ZWU",
        "outputId": "6d595448-a1d5-491b-8eb8-2739220d8e8e",
        "colab": {
          "base_uri": "https://localhost:8080/",
          "height": 237
        }
      },
      "outputs": [
        {
          "output_type": "error",
          "ename": "NameError",
          "evalue": "ignored",
          "traceback": [
            "\u001b[0;31m---------------------------------------------------------------------------\u001b[0m",
            "\u001b[0;31mNameError\u001b[0m                                 Traceback (most recent call last)",
            "\u001b[0;32m<ipython-input-5-d716a956fc5d>\u001b[0m in \u001b[0;36m<module>\u001b[0;34m()\u001b[0m\n\u001b[1;32m      1\u001b[0m \u001b[0;31m# Save the model as a file\u001b[0m\u001b[0;34m\u001b[0m\u001b[0;34m\u001b[0m\u001b[0;34m\u001b[0m\u001b[0m\n\u001b[0;32m----> 2\u001b[0;31m \u001b[0mmodels\u001b[0m\u001b[0;34m.\u001b[0m\u001b[0msave_model\u001b[0m\u001b[0;34m(\u001b[0m\u001b[0mmodel\u001b[0m\u001b[0;34m,\u001b[0m \u001b[0mmodel_filename\u001b[0m\u001b[0;34m)\u001b[0m\u001b[0;34m\u001b[0m\u001b[0;34m\u001b[0m\u001b[0m\n\u001b[0m\u001b[1;32m      3\u001b[0m \u001b[0;34m\u001b[0m\u001b[0m\n\u001b[1;32m      4\u001b[0m \u001b[0;31m# See which are stop'\u001b[0m\u001b[0;34m\u001b[0m\u001b[0;34m\u001b[0m\u001b[0;34m\u001b[0m\u001b[0m\n\u001b[1;32m      5\u001b[0m \u001b[0;31m#for idx, y in enumerate(y_test):\u001b[0m\u001b[0;34m\u001b[0m\u001b[0;34m\u001b[0m\u001b[0;34m\u001b[0m\u001b[0m\n",
            "\u001b[0;31mNameError\u001b[0m: name 'model' is not defined"
          ]
        }
      ],
      "source": [
        "# Save the model as a file\n",
        "models.save_model(model, model_filename)\n",
        "\n",
        "# See which are stop'\n",
        "#for idx, y in enumerate(y_test):\n",
        "#    if y == 1:\n",
        "#        print(idx)\n",
        "\n",
        "# TEST: Load model and run it against test set\n",
        "#model = models.load_model(model_filename)\n",
        "#for i in range(100, 200):\n",
        "#    print('Answer:', y_test[i], ' Prediction:', model.predict(np.expand_dims(x_test[i], 0)))\n",
        "\n",
        "# Evaluate model with test set\n",
        "model.evaluate(x=x_test, y=ys_test)"
      ]
    },
    {
      "cell_type": "code",
      "execution_count": null,
      "metadata": {
        "id": "Z4e51Ltj4ZWV",
        "outputId": "e2df33a7-51b6-4d3a-95c0-1148391dbe23",
        "colab": {
          "base_uri": "https://localhost:8080/",
          "height": 167
        }
      },
      "outputs": [
        {
          "output_type": "error",
          "ename": "NameError",
          "evalue": "ignored",
          "traceback": [
            "\u001b[0;31m---------------------------------------------------------------------------\u001b[0m",
            "\u001b[0;31mNameError\u001b[0m                                 Traceback (most recent call last)",
            "\u001b[0;32m<ipython-input-1-9257c33c09cf>\u001b[0m in \u001b[0;36m<module>\u001b[0;34m()\u001b[0m\n\u001b[0;32m----> 1\u001b[0;31m \u001b[0mall_targets\u001b[0m\u001b[0;34m\u001b[0m\u001b[0;34m\u001b[0m\u001b[0m\n\u001b[0m",
            "\u001b[0;31mNameError\u001b[0m: name 'all_targets' is not defined"
          ]
        }
      ],
      "source": [
        "all_targets"
      ]
    },
    {
      "cell_type": "code",
      "execution_count": null,
      "metadata": {
        "id": "UhFXTYQh4ZWW"
      },
      "outputs": [],
      "source": [
        ""
      ]
    }
  ],
  "metadata": {
    "kernelspec": {
      "display_name": "Python 3 (ipykernel)",
      "language": "python",
      "name": "python3"
    },
    "language_info": {
      "codemirror_mode": {
        "name": "ipython",
        "version": 3
      },
      "file_extension": ".py",
      "mimetype": "text/x-python",
      "name": "python",
      "nbconvert_exporter": "python",
      "pygments_lexer": "ipython3",
      "version": "3.9.7"
    },
    "colab": {
      "name": "training.ipynb",
      "provenance": [],
      "include_colab_link": true
    }
  },
  "nbformat": 4,
  "nbformat_minor": 0
}