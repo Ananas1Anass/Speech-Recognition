{
 "cells": [
  {
   "cell_type": "code",
   "execution_count": 1,
   "metadata": {},
   "outputs": [
    {
     "name": "stderr",
     "output_type": "stream",
     "text": [
      "2022-08-15 19:25:38.972336: W tensorflow/stream_executor/platform/default/dso_loader.cc:64] Could not load dynamic library 'libcudart.so.11.0'; dlerror: libcudart.so.11.0: cannot open shared object file: No such file or directory\n",
      "2022-08-15 19:25:38.972403: I tensorflow/stream_executor/cuda/cudart_stub.cc:29] Ignore above cudart dlerror if you do not have a GPU set up on your machine.\n"
     ]
    }
   ],
   "source": [
    "from os import listdir\n",
    "from os.path import isdir, join\n",
    "from tensorflow.keras import layers, models, metrics\n",
    "import numpy as np\n",
    "import tensorflow as tf\n"
   ]
  },
  {
   "cell_type": "code",
   "execution_count": 2,
   "metadata": {},
   "outputs": [],
   "source": [
    "# Create list of all targets (minus background noise)\n",
    "dataset_path = '/home/anass/Projet_Stage/Database-20220727T140818Z-001/organized/normalized1'\n",
    "all_targets = all_targets = [name for name in listdir(dataset_path) if isdir(join(dataset_path, name))]\n",
    "all_targets.remove('_background_noise_')"
   ]
  },
  {
   "cell_type": "code",
   "execution_count": 3,
   "metadata": {},
   "outputs": [],
   "source": [
    "# Settings\n",
    "feature_sets_path = '/home/anass/Projet_Stage/Database-20220727T140818Z-001/'\n",
    "feature_sets_filename = 'port_npz.npz'\n",
    "wake_words = all_targets\n",
    "joined_wake_words = '_'.join(wake_words)\n",
    "model_filename = f'wake_words_{joined_wake_words}_model_100_percent.h5'"
   ]
  },
  {
   "cell_type": "code",
   "execution_count": 4,
   "metadata": {},
   "outputs": [
    {
     "name": "stdout",
     "output_type": "stream",
     "text": [
      "['x_train', 'y_train', 'x_val', 'y_val', 'x_test', 'y_test']\n"
     ]
    }
   ],
   "source": [
    "# Load feature sets\n",
    "feature_sets = np.load(join(feature_sets_path, feature_sets_filename))\n",
    "print(feature_sets.files)"
   ]
  },
  {
   "cell_type": "code",
   "execution_count": 5,
   "metadata": {},
   "outputs": [],
   "source": [
    "# Assign feature sets\n",
    "x_train = feature_sets['x_train']\n",
    "y_train = feature_sets['y_train']\n",
    "x_val = feature_sets['x_val']\n",
    "y_val = feature_sets['y_val']\n",
    "x_test = feature_sets['x_test']\n",
    "y_test = feature_sets['y_test']"
   ]
  },
  {
   "cell_type": "code",
   "execution_count": 6,
   "metadata": {},
   "outputs": [
    {
     "name": "stdout",
     "output_type": "stream",
     "text": [
      "(916, 16, 16)\n",
      "(113, 16, 16)\n",
      "(115, 16, 16)\n",
      "[0. 0. 1. 4. 7. 4. 7. 2. 0. 3. 7. 7. 0. 1. 4. 2. 1. 1. 7. 0. 5. 1. 4. 3.\n",
      " 7. 7. 7. 6. 6. 6. 3. 5. 4. 3. 3. 1. 4. 3. 1. 1. 3. 0. 4. 6. 2. 3. 4. 3.\n",
      " 2. 2. 2. 2. 1. 5. 2. 0. 4. 6. 4. 7. 3. 5. 5. 6. 1. 0. 1. 3. 7. 1. 6. 1.\n",
      " 3. 7. 2. 7. 5. 4. 0. 2. 5. 6. 2. 0. 6. 1. 0. 5. 1. 0. 7. 7. 6. 1. 1. 0.\n",
      " 1. 1. 5. 6. 5. 0. 0. 1. 3. 3. 3. 4. 0. 2. 4. 6. 1.]\n"
     ]
    }
   ],
   "source": [
    "# Look at tensor dimensions\n",
    "print(x_train.shape)\n",
    "print(x_val.shape)\n",
    "print(x_test.shape)\n",
    "# Peek at labels\n",
    "print(y_val)"
   ]
  },
  {
   "cell_type": "code",
   "execution_count": 7,
   "metadata": {},
   "outputs": [],
   "source": [
    "# Convert ground truth arrays to one wake word (1) and 'other' (0)\n",
    "wake_words_indexes = [all_targets.index(wake_word) for wake_word in wake_words]\n",
    "ys_train = np.array(list(map(np.array, zip(*[np.equal(y_train, wake_word_index).astype('float64') for wake_word_index in wake_words_indexes]))))\n",
    "ys_val = np.array(list(map(np.array, zip(*[np.equal(y_val, wake_word_index).astype('float64') for wake_word_index in wake_words_indexes]))))\n",
    "ys_test = np.array(list(map(np.array, zip(*[np.equal(y_test, wake_word_index).astype('float64') for wake_word_index in wake_words_indexes]))))"
   ]
  },
  {
   "cell_type": "code",
   "execution_count": 8,
   "metadata": {
    "tags": []
   },
   "outputs": [
    {
     "name": "stdout",
     "output_type": "stream",
     "text": [
      "(0.1415929203539823, 0.18584070796460178, 0.10619469026548672, 0.13274336283185842, 0.11504424778761062, 0.08849557522123894, 0.10619469026548672, 0.12389380530973451)\n"
     ]
    }
   ],
   "source": [
    "# What percentage of 'stop' appear in validation labels\n",
    "print(tuple(sum(y_val) / len(y_val) for y_val in zip(*ys_val)))"
   ]
  },
  {
   "cell_type": "code",
   "execution_count": 9,
   "metadata": {},
   "outputs": [
    {
     "name": "stdout",
     "output_type": "stream",
     "text": [
      "(916, 16, 16, 1)\n",
      "(113, 16, 16, 1)\n",
      "(115, 16, 16, 1)\n",
      "(16, 16, 1)\n"
     ]
    }
   ],
   "source": [
    "# CNN for TF expects (batch, height, width, channels)\n",
    "# So we reshape the input tensors with a \"color\" channel of 1\n",
    "x_train = x_train.reshape(x_train.shape[0],\n",
    "                          x_train.shape[1],\n",
    "                          x_train.shape[2],\n",
    "                          1)\n",
    "x_val = x_val.reshape(x_val.shape[0],\n",
    "                      x_val.shape[1],\n",
    "                      x_val.shape[2],\n",
    "                      1)\n",
    "x_test = x_test.reshape(x_test.shape[0],\n",
    "                        x_test.shape[1],\n",
    "                        x_test.shape[2],\n",
    "                        1)\n",
    "print(x_train.shape)\n",
    "print(x_val.shape)\n",
    "print(x_test.shape)\n",
    "\n",
    "# Input shape for CNN is size of MFCC of 1 sample\n",
    "sample_shape = x_test.shape[1:]\n",
    "print(sample_shape)"
   ]
  },
  {
   "cell_type": "code",
   "execution_count": 10,
   "metadata": {},
   "outputs": [
    {
     "name": "stderr",
     "output_type": "stream",
     "text": [
      "2022-08-15 19:26:00.254142: I tensorflow/stream_executor/cuda/cuda_gpu_executor.cc:975] successful NUMA node read from SysFS had negative value (-1), but there must be at least one NUMA node, so returning NUMA node zero\n",
      "2022-08-15 19:26:00.255857: W tensorflow/stream_executor/platform/default/dso_loader.cc:64] Could not load dynamic library 'libcudart.so.11.0'; dlerror: libcudart.so.11.0: cannot open shared object file: No such file or directory\n",
      "2022-08-15 19:26:00.256208: W tensorflow/stream_executor/platform/default/dso_loader.cc:64] Could not load dynamic library 'libcublas.so.11'; dlerror: libcublas.so.11: cannot open shared object file: No such file or directory\n",
      "2022-08-15 19:26:00.256487: W tensorflow/stream_executor/platform/default/dso_loader.cc:64] Could not load dynamic library 'libcublasLt.so.11'; dlerror: libcublasLt.so.11: cannot open shared object file: No such file or directory\n",
      "2022-08-15 19:26:00.256757: W tensorflow/stream_executor/platform/default/dso_loader.cc:64] Could not load dynamic library 'libcufft.so.10'; dlerror: libcufft.so.10: cannot open shared object file: No such file or directory\n",
      "2022-08-15 19:26:00.257026: W tensorflow/stream_executor/platform/default/dso_loader.cc:64] Could not load dynamic library 'libcurand.so.10'; dlerror: libcurand.so.10: cannot open shared object file: No such file or directory\n",
      "2022-08-15 19:26:00.257291: W tensorflow/stream_executor/platform/default/dso_loader.cc:64] Could not load dynamic library 'libcusolver.so.11'; dlerror: libcusolver.so.11: cannot open shared object file: No such file or directory\n",
      "2022-08-15 19:26:00.257558: W tensorflow/stream_executor/platform/default/dso_loader.cc:64] Could not load dynamic library 'libcusparse.so.11'; dlerror: libcusparse.so.11: cannot open shared object file: No such file or directory\n",
      "2022-08-15 19:26:00.257823: W tensorflow/stream_executor/platform/default/dso_loader.cc:64] Could not load dynamic library 'libcudnn.so.8'; dlerror: libcudnn.so.8: cannot open shared object file: No such file or directory\n",
      "2022-08-15 19:26:00.257860: W tensorflow/core/common_runtime/gpu/gpu_device.cc:1850] Cannot dlopen some GPU libraries. Please make sure the missing libraries mentioned above are installed properly if you would like to use GPU. Follow the guide at https://www.tensorflow.org/install/gpu for how to download and setup the required libraries for your platform.\n",
      "Skipping registering GPU devices...\n",
      "2022-08-15 19:26:00.259690: I tensorflow/core/platform/cpu_feature_guard.cc:193] This TensorFlow binary is optimized with oneAPI Deep Neural Network Library (oneDNN) to use the following CPU instructions in performance-critical operations:  AVX2 FMA\n",
      "To enable them in other operations, rebuild TensorFlow with the appropriate compiler flags.\n"
     ]
    }
   ],
   "source": [
    "# Build model\n",
    "model = models.Sequential()\n",
    "model.add(layers.Conv2D(64, \n",
    "                        (2, 2), \n",
    "                        activation='relu',\n",
    "                        input_shape=sample_shape))\n",
    "model.add(layers.MaxPooling2D(pool_size=(2, 2)))\n",
    "model.add(layers.Conv2D(64, (2, 2), activation='relu'))\n",
    "model.add(layers.MaxPooling2D(pool_size=(2, 2)))\n",
    "model.add(layers.Conv2D(128, (2, 2), activation='relu'))\n",
    "model.add(layers.MaxPooling2D(pool_size=(2, 2)))\n",
    "# Classifier\n",
    "model.add(layers.Flatten())\n",
    "model.add(layers.Dense(128, activation='relu'))\n",
    "model.add(layers.Dropout(0.5))\n",
    "model.add(layers.Dense(128, activation='relu'))\n",
    "model.add(layers.Dropout(0.5))\n",
    "model.add(layers.Dense(len(wake_words), activation='sigmoid'))"
   ]
  },
  {
   "cell_type": "code",
   "execution_count": 11,
   "metadata": {},
   "outputs": [
    {
     "name": "stdout",
     "output_type": "stream",
     "text": [
      "Model: \"sequential\"\n",
      "_________________________________________________________________\n",
      " Layer (type)                Output Shape              Param #   \n",
      "=================================================================\n",
      " conv2d (Conv2D)             (None, 15, 15, 64)        320       \n",
      "                                                                 \n",
      " max_pooling2d (MaxPooling2D  (None, 7, 7, 64)         0         \n",
      " )                                                               \n",
      "                                                                 \n",
      " conv2d_1 (Conv2D)           (None, 6, 6, 64)          16448     \n",
      "                                                                 \n",
      " max_pooling2d_1 (MaxPooling  (None, 3, 3, 64)         0         \n",
      " 2D)                                                             \n",
      "                                                                 \n",
      " conv2d_2 (Conv2D)           (None, 2, 2, 128)         32896     \n",
      "                                                                 \n",
      " max_pooling2d_2 (MaxPooling  (None, 1, 1, 128)        0         \n",
      " 2D)                                                             \n",
      "                                                                 \n",
      " flatten (Flatten)           (None, 128)               0         \n",
      "                                                                 \n",
      " dense (Dense)               (None, 128)               16512     \n",
      "                                                                 \n",
      " dropout (Dropout)           (None, 128)               0         \n",
      "                                                                 \n",
      " dense_1 (Dense)             (None, 128)               16512     \n",
      "                                                                 \n",
      " dropout_1 (Dropout)         (None, 128)               0         \n",
      "                                                                 \n",
      " dense_2 (Dense)             (None, 8)                 1032      \n",
      "                                                                 \n",
      "=================================================================\n",
      "Total params: 83,720\n",
      "Trainable params: 83,720\n",
      "Non-trainable params: 0\n",
      "_________________________________________________________________\n"
     ]
    }
   ],
   "source": [
    "# Display model\n",
    "model.summary()"
   ]
  },
  {
   "cell_type": "code",
   "execution_count": 12,
   "metadata": {},
   "outputs": [],
   "source": [
    "# Add training parameters to model\n",
    "model.compile(loss='binary_crossentropy',\n",
    "              optimizer='adam',\n",
    "              loss_weights=[1, 100],\n",
    "              metrics=['acc', metrics.Precision(), metrics.Recall()])"
   ]
  },
  {
   "cell_type": "code",
   "execution_count": 13,
   "metadata": {
    "scrolled": false
   },
   "outputs": [
    {
     "name": "stdout",
     "output_type": "stream",
     "text": [
      "Epoch 1/100\n",
      "10/10 [==============================] - 2s 67ms/step - loss: 0.5179 - acc: 0.1517 - precision: 0.1475 - recall: 0.1648 - val_loss: 0.3800 - val_acc: 0.2655 - val_precision: 0.0000e+00 - val_recall: 0.0000e+00\n",
      "Epoch 2/100\n",
      "10/10 [==============================] - 0s 22ms/step - loss: 0.4339 - acc: 0.1266 - precision: 0.1633 - recall: 0.0262 - val_loss: 0.3753 - val_acc: 0.2301 - val_precision: 0.0000e+00 - val_recall: 0.0000e+00\n",
      "Epoch 3/100\n",
      "10/10 [==============================] - 0s 22ms/step - loss: 0.4143 - acc: 0.1168 - precision: 0.1600 - recall: 0.0087 - val_loss: 0.3720 - val_acc: 0.2655 - val_precision: 0.0000e+00 - val_recall: 0.0000e+00\n",
      "Epoch 4/100\n",
      "10/10 [==============================] - 0s 21ms/step - loss: 0.3994 - acc: 0.1790 - precision: 0.4286 - recall: 0.0098 - val_loss: 0.3715 - val_acc: 0.2920 - val_precision: 0.0000e+00 - val_recall: 0.0000e+00\n",
      "Epoch 5/100\n",
      "10/10 [==============================] - 0s 22ms/step - loss: 0.3957 - acc: 0.1747 - precision: 0.3571 - recall: 0.0055 - val_loss: 0.3583 - val_acc: 0.2920 - val_precision: 0.0000e+00 - val_recall: 0.0000e+00\n",
      "Epoch 6/100\n",
      "10/10 [==============================] - 0s 21ms/step - loss: 0.3837 - acc: 0.2194 - precision: 0.2333 - recall: 0.0076 - val_loss: 0.3544 - val_acc: 0.3097 - val_precision: 0.0000e+00 - val_recall: 0.0000e+00\n",
      "Epoch 7/100\n",
      "10/10 [==============================] - 0s 22ms/step - loss: 0.3751 - acc: 0.2216 - precision: 0.3000 - recall: 0.0098 - val_loss: 0.3379 - val_acc: 0.3274 - val_precision: 0.0000e+00 - val_recall: 0.0000e+00\n",
      "Epoch 8/100\n",
      "10/10 [==============================] - 0s 22ms/step - loss: 0.3574 - acc: 0.2893 - precision: 0.3889 - recall: 0.0306 - val_loss: 0.3242 - val_acc: 0.3363 - val_precision: 0.0000e+00 - val_recall: 0.0000e+00\n",
      "Epoch 9/100\n",
      "10/10 [==============================] - 0s 22ms/step - loss: 0.3482 - acc: 0.3090 - precision: 0.4202 - recall: 0.0546 - val_loss: 0.3106 - val_acc: 0.4071 - val_precision: 0.8571 - val_recall: 0.0531\n",
      "Epoch 10/100\n",
      "10/10 [==============================] - 0s 22ms/step - loss: 0.3316 - acc: 0.3603 - precision: 0.4975 - recall: 0.1070 - val_loss: 0.2956 - val_acc: 0.4336 - val_precision: 0.9000 - val_recall: 0.0796\n",
      "Epoch 11/100\n",
      "10/10 [==============================] - 0s 21ms/step - loss: 0.3150 - acc: 0.3930 - precision: 0.5333 - recall: 0.1223 - val_loss: 0.2733 - val_acc: 0.4602 - val_precision: 0.8571 - val_recall: 0.1062\n",
      "Epoch 12/100\n",
      "10/10 [==============================] - 0s 21ms/step - loss: 0.2957 - acc: 0.4421 - precision: 0.6026 - recall: 0.2052 - val_loss: 0.2612 - val_acc: 0.5310 - val_precision: 0.7917 - val_recall: 0.1681\n",
      "Epoch 13/100\n",
      "10/10 [==============================] - 0s 21ms/step - loss: 0.2893 - acc: 0.4585 - precision: 0.6218 - recall: 0.2118 - val_loss: 0.2625 - val_acc: 0.5310 - val_precision: 0.7059 - val_recall: 0.2124\n",
      "Epoch 14/100\n",
      "10/10 [==============================] - 0s 21ms/step - loss: 0.2841 - acc: 0.4880 - precision: 0.6056 - recall: 0.2598 - val_loss: 0.2552 - val_acc: 0.5664 - val_precision: 0.7879 - val_recall: 0.2301\n",
      "Epoch 15/100\n",
      "10/10 [==============================] - 0s 21ms/step - loss: 0.2697 - acc: 0.4891 - precision: 0.6339 - recall: 0.2533 - val_loss: 0.2481 - val_acc: 0.5310 - val_precision: 0.7556 - val_recall: 0.3009\n",
      "Epoch 16/100\n",
      "10/10 [==============================] - 0s 24ms/step - loss: 0.2595 - acc: 0.5382 - precision: 0.6328 - recall: 0.3330 - val_loss: 0.2330 - val_acc: 0.6018 - val_precision: 0.7400 - val_recall: 0.3274\n",
      "Epoch 17/100\n",
      "10/10 [==============================] - 0s 40ms/step - loss: 0.2557 - acc: 0.5644 - precision: 0.6585 - recall: 0.3515 - val_loss: 0.2289 - val_acc: 0.5929 - val_precision: 0.8462 - val_recall: 0.2920\n",
      "Epoch 18/100\n",
      "10/10 [==============================] - 0s 49ms/step - loss: 0.2533 - acc: 0.5677 - precision: 0.6805 - recall: 0.3766 - val_loss: 0.2291 - val_acc: 0.6018 - val_precision: 0.7414 - val_recall: 0.3805\n",
      "Epoch 19/100\n",
      "10/10 [==============================] - 0s 23ms/step - loss: 0.2420 - acc: 0.5699 - precision: 0.7335 - recall: 0.3635 - val_loss: 0.2238 - val_acc: 0.5929 - val_precision: 0.8478 - val_recall: 0.3451\n",
      "Epoch 20/100\n",
      "10/10 [==============================] - 0s 28ms/step - loss: 0.2315 - acc: 0.5884 - precision: 0.7154 - recall: 0.3952 - val_loss: 0.2194 - val_acc: 0.6460 - val_precision: 0.7541 - val_recall: 0.4071\n",
      "Epoch 21/100\n",
      "10/10 [==============================] - 0s 22ms/step - loss: 0.2194 - acc: 0.6397 - precision: 0.7201 - recall: 0.4269 - val_loss: 0.2153 - val_acc: 0.6637 - val_precision: 0.7656 - val_recall: 0.4336\n",
      "Epoch 22/100\n",
      "10/10 [==============================] - 0s 22ms/step - loss: 0.2119 - acc: 0.6474 - precision: 0.7504 - recall: 0.4793 - val_loss: 0.2023 - val_acc: 0.6549 - val_precision: 0.8644 - val_recall: 0.4513\n",
      "Epoch 23/100\n",
      "10/10 [==============================] - 0s 25ms/step - loss: 0.2180 - acc: 0.6441 - precision: 0.7374 - recall: 0.4476 - val_loss: 0.1957 - val_acc: 0.6814 - val_precision: 0.8133 - val_recall: 0.5398\n",
      "Epoch 24/100\n",
      "10/10 [==============================] - 0s 22ms/step - loss: 0.1984 - acc: 0.6845 - precision: 0.7655 - recall: 0.5273 - val_loss: 0.1891 - val_acc: 0.6726 - val_precision: 0.7722 - val_recall: 0.5398\n",
      "Epoch 25/100\n",
      "10/10 [==============================] - 0s 23ms/step - loss: 0.1899 - acc: 0.6932 - precision: 0.7748 - recall: 0.5109 - val_loss: 0.1846 - val_acc: 0.6637 - val_precision: 0.8219 - val_recall: 0.5310\n",
      "Epoch 26/100\n",
      "10/10 [==============================] - 0s 22ms/step - loss: 0.1844 - acc: 0.7031 - precision: 0.7895 - recall: 0.5568 - val_loss: 0.1781 - val_acc: 0.7257 - val_precision: 0.8140 - val_recall: 0.6195\n",
      "Epoch 27/100\n",
      "10/10 [==============================] - 0s 23ms/step - loss: 0.1795 - acc: 0.7260 - precision: 0.7924 - recall: 0.5666 - val_loss: 0.1706 - val_acc: 0.7257 - val_precision: 0.8161 - val_recall: 0.6283\n",
      "Epoch 28/100\n",
      "10/10 [==============================] - 0s 28ms/step - loss: 0.1715 - acc: 0.7336 - precision: 0.7971 - recall: 0.6092 - val_loss: 0.1747 - val_acc: 0.6814 - val_precision: 0.7931 - val_recall: 0.6106\n",
      "Epoch 29/100\n",
      "10/10 [==============================] - 0s 23ms/step - loss: 0.1652 - acc: 0.7576 - precision: 0.7974 - recall: 0.5972 - val_loss: 0.1580 - val_acc: 0.7168 - val_precision: 0.8690 - val_recall: 0.6460\n",
      "Epoch 30/100\n",
      "10/10 [==============================] - 0s 22ms/step - loss: 0.1531 - acc: 0.7718 - precision: 0.8420 - recall: 0.6397 - val_loss: 0.1491 - val_acc: 0.7345 - val_precision: 0.8333 - val_recall: 0.6195\n",
      "Epoch 31/100\n",
      "10/10 [==============================] - 0s 23ms/step - loss: 0.1392 - acc: 0.8122 - precision: 0.8675 - recall: 0.6790 - val_loss: 0.1445 - val_acc: 0.7611 - val_precision: 0.8478 - val_recall: 0.6903\n",
      "Epoch 32/100\n",
      "10/10 [==============================] - 0s 23ms/step - loss: 0.1399 - acc: 0.7937 - precision: 0.8342 - recall: 0.6921 - val_loss: 0.1651 - val_acc: 0.7611 - val_precision: 0.8261 - val_recall: 0.6726\n",
      "Epoch 33/100\n",
      "10/10 [==============================] - 0s 26ms/step - loss: 0.1403 - acc: 0.7948 - precision: 0.8342 - recall: 0.6867 - val_loss: 0.1493 - val_acc: 0.7522 - val_precision: 0.8172 - val_recall: 0.6726\n",
      "Epoch 34/100\n",
      "10/10 [==============================] - 0s 29ms/step - loss: 0.1373 - acc: 0.7838 - precision: 0.8399 - recall: 0.6987 - val_loss: 0.1348 - val_acc: 0.7788 - val_precision: 0.8351 - val_recall: 0.7168\n",
      "Epoch 35/100\n",
      "10/10 [==============================] - 0s 22ms/step - loss: 0.1264 - acc: 0.8166 - precision: 0.8622 - recall: 0.7172 - val_loss: 0.1476 - val_acc: 0.7168 - val_precision: 0.8000 - val_recall: 0.6372\n",
      "Epoch 36/100\n",
      "10/10 [==============================] - 0s 22ms/step - loss: 0.1399 - acc: 0.8068 - precision: 0.8442 - recall: 0.7041 - val_loss: 0.1277 - val_acc: 0.8053 - val_precision: 0.8586 - val_recall: 0.7522\n",
      "Epoch 37/100\n",
      "10/10 [==============================] - 0s 22ms/step - loss: 0.1363 - acc: 0.7980 - precision: 0.8254 - recall: 0.7227 - val_loss: 0.1395 - val_acc: 0.7788 - val_precision: 0.8163 - val_recall: 0.7080\n",
      "Epoch 38/100\n",
      "10/10 [==============================] - 0s 23ms/step - loss: 0.1136 - acc: 0.8373 - precision: 0.8846 - recall: 0.7697 - val_loss: 0.1333 - val_acc: 0.7788 - val_precision: 0.8081 - val_recall: 0.7080\n"
     ]
    },
    {
     "name": "stdout",
     "output_type": "stream",
     "text": [
      "Epoch 39/100\n",
      "10/10 [==============================] - 0s 23ms/step - loss: 0.1071 - acc: 0.8581 - precision: 0.8864 - recall: 0.7926 - val_loss: 0.1251 - val_acc: 0.7699 - val_precision: 0.8218 - val_recall: 0.7345\n",
      "Epoch 40/100\n",
      "10/10 [==============================] - 0s 22ms/step - loss: 0.0985 - acc: 0.8559 - precision: 0.8794 - recall: 0.7882 - val_loss: 0.1301 - val_acc: 0.7965 - val_precision: 0.8148 - val_recall: 0.7788\n",
      "Epoch 41/100\n",
      "10/10 [==============================] - 0s 22ms/step - loss: 0.0937 - acc: 0.8657 - precision: 0.8869 - recall: 0.8133 - val_loss: 0.1156 - val_acc: 0.7965 - val_precision: 0.8302 - val_recall: 0.7788\n",
      "Epoch 42/100\n",
      "10/10 [==============================] - 0s 28ms/step - loss: 0.0833 - acc: 0.8865 - precision: 0.9088 - recall: 0.8373 - val_loss: 0.1116 - val_acc: 0.8142 - val_precision: 0.8349 - val_recall: 0.8053\n",
      "Epoch 43/100\n",
      "10/10 [==============================] - 0s 23ms/step - loss: 0.0819 - acc: 0.8941 - precision: 0.9048 - recall: 0.8406 - val_loss: 0.1127 - val_acc: 0.8407 - val_precision: 0.8462 - val_recall: 0.7788\n",
      "Epoch 44/100\n",
      "10/10 [==============================] - 0s 23ms/step - loss: 0.0767 - acc: 0.9017 - precision: 0.9155 - recall: 0.8515 - val_loss: 0.1318 - val_acc: 0.8053 - val_precision: 0.8056 - val_recall: 0.7699\n",
      "Epoch 45/100\n",
      "10/10 [==============================] - 0s 22ms/step - loss: 0.0794 - acc: 0.9007 - precision: 0.9194 - recall: 0.8341 - val_loss: 0.1214 - val_acc: 0.7876 - val_precision: 0.8431 - val_recall: 0.7611\n",
      "Epoch 46/100\n",
      "10/10 [==============================] - 0s 22ms/step - loss: 0.0792 - acc: 0.8908 - precision: 0.9014 - recall: 0.8286 - val_loss: 0.1164 - val_acc: 0.8142 - val_precision: 0.8544 - val_recall: 0.7788\n",
      "Epoch 47/100\n",
      "10/10 [==============================] - 0s 22ms/step - loss: 0.0793 - acc: 0.8974 - precision: 0.9098 - recall: 0.8483 - val_loss: 0.1162 - val_acc: 0.8407 - val_precision: 0.8411 - val_recall: 0.7965\n"
     ]
    }
   ],
   "source": [
    "# Train\n",
    "callback = tf.keras.callbacks.EarlyStopping(monitor='loss', patience=3)\n",
    "history = model.fit(x_train,\n",
    "                    ys_train,\n",
    "                    epochs=100,\n",
    "                    batch_size=100,\n",
    "                    validation_data=(x_val, ys_val),\n",
    "                    callbacks=[callback],)"
   ]
  },
  {
   "cell_type": "code",
   "execution_count": 17,
   "metadata": {},
   "outputs": [
    {
     "data": {
      "image/png": "[encoded data removed]",
      "text/plain": [
       "<Figure size 432x288 with 1 Axes>"
      ]
     },
     "metadata": {
      "needs_background": "light"
     },
     "output_type": "display_data"
    },
    {
     "data": {
      "image/png": "[encoded data removed]",
      "text/plain": [
       "<Figure size 432x288 with 1 Axes>"
      ]
     },
     "metadata": {
      "needs_background": "light"
     },
     "output_type": "display_data"
    },
    {
     "ename": "NameError",
     "evalue": "name 'precision' is not defined",
     "output_type": "error",
     "traceback": [
      "\u001b[0;31m---------------------------------------------------------------------------\u001b[0m",
      "\u001b[0;31mNameError\u001b[0m                                 Traceback (most recent call last)",
      "Input \u001b[0;32mIn [17]\u001b[0m, in \u001b[0;36m<cell line: 45>\u001b[0;34m()\u001b[0m\n\u001b[1;32m     36\u001b[0m plt\u001b[38;5;241m.\u001b[39mshow()\n\u001b[1;32m     41\u001b[0m plt\u001b[38;5;241m.\u001b[39mfigure()\n\u001b[0;32m---> 45\u001b[0m plt\u001b[38;5;241m.\u001b[39mplot(epochs, \u001b[43mprecision\u001b[49m, \u001b[38;5;124m'\u001b[39m\u001b[38;5;124mbo\u001b[39m\u001b[38;5;124m'\u001b[39m, label\u001b[38;5;241m=\u001b[39m\u001b[38;5;124m'\u001b[39m\u001b[38;5;124mTraining precision\u001b[39m\u001b[38;5;124m'\u001b[39m)\n\u001b[1;32m     46\u001b[0m plt\u001b[38;5;241m.\u001b[39mplot(epochs, val_precision, \u001b[38;5;124m'\u001b[39m\u001b[38;5;124mb\u001b[39m\u001b[38;5;124m'\u001b[39m, label\u001b[38;5;241m=\u001b[39m\u001b[38;5;124m'\u001b[39m\u001b[38;5;124mValidation precision\u001b[39m\u001b[38;5;124m'\u001b[39m)\n\u001b[1;32m     47\u001b[0m plt\u001b[38;5;241m.\u001b[39mtitle(\u001b[38;5;124m'\u001b[39m\u001b[38;5;124mTraining and validation precision\u001b[39m\u001b[38;5;124m'\u001b[39m)\n",
      "\u001b[0;31mNameError\u001b[0m: name 'precision' is not defined"
     ]
    },
    {
     "data": {
      "text/plain": [
       "<Figure size 432x288 with 0 Axes>"
      ]
     },
     "metadata": {},
     "output_type": "display_data"
    }
   ],
   "source": [
    "# Plot results\n",
    "import matplotlib.pyplot as plt\n",
    "\n",
    " \n",
    "\n",
    "acc = history.history['acc']\n",
    "val_acc = history.history['val_acc']\n",
    "loss = history.history['loss']\n",
    "val_loss = history.history['val_loss']\n",
    "\n",
    " \n",
    "\n",
    "\n",
    "epochs = range(1, len(acc) + 1)\n",
    "\n",
    " \n",
    "\n",
    "plt.plot(epochs, acc, 'bo', label='Training acc')\n",
    "plt.plot(epochs, val_acc, 'b', label='Validation acc')\n",
    "plt.title('Training and validation accuracy')\n",
    "plt.legend()\n",
    "\n",
    " \n",
    "\n",
    "plt.figure()\n",
    "\n",
    " \n",
    "\n",
    "plt.plot(epochs, loss, 'bo', label='Training loss')\n",
    "plt.plot(epochs, val_loss, 'b', label='Validation loss')\n",
    "plt.title('Training and validation loss')\n",
    "plt.legend()\n",
    "\n",
    " \n",
    "plt.savefig('Training and validation loss.png')\n",
    "plt.show()\n",
    "\n",
    " \n",
    "\n",
    "\n",
    "plt.figure()\n",
    "\n",
    " \n",
    "\n",
    "plt.plot(epochs, precision, 'bo', label='Training precision')\n",
    "plt.plot(epochs, val_precision, 'b', label='Validation precision')\n",
    "plt.title('Training and validation precision')\n",
    "plt.legend()\n",
    "\n",
    " \n",
    "plt.savefig('Training and validation precision.png')\n",
    "\n",
    "plt.show()\n",
    "\n",
    " \n",
    "\n",
    "plt.figure()\n",
    "\n",
    " \n",
    "\n",
    "plt.plot(epochs, recall, 'bo', label='Training recall')\n",
    "plt.plot(epochs, val_recall, 'b', label='Validation recall')\n",
    "plt.title('Training and validation recall')\n",
    "plt.legend()\n",
    "\n",
    " \n",
    "\n",
    "plt.show()"
   ]
  },
  {
   "cell_type": "code",
   "execution_count": 15,
   "metadata": {},
   "outputs": [
    {
     "name": "stdout",
     "output_type": "stream",
     "text": [
      "4/4 [==============================] - 0s 4ms/step - loss: 0.1446 - acc: 0.7652 - precision: 0.8384 - recall: 0.7217\n"
     ]
    },
    {
     "data": {
      "text/plain": [
       "[0.14457839727401733,\n",
       " 0.7652173638343811,\n",
       " 0.8383838534355164,\n",
       " 0.7217391133308411]"
      ]
     },
     "execution_count": 15,
     "metadata": {},
     "output_type": "execute_result"
    }
   ],
   "source": [
    "# Save the model as a file\n",
    "models.save_model(model, model_filename)\n",
    "\n",
    "# See which are 'stop'\n",
    "#for idx, y in enumerate(y_test):\n",
    "#    if y == 1:\n",
    "#        print(idx)\n",
    "\n",
    "# TEST: Load model and run it against test set\n",
    "#model = models.load_model(model_filename)\n",
    "#for i in range(100, 200):\n",
    "#    print('Answer:', y_test[i], ' Prediction:', model.predict(np.expand_dims(x_test[i], 0)))\n",
    "\n",
    "# Evaluate model with test set\n",
    "model.evaluate(x=x_test, y=ys_test)"
   ]
  },
  {
   "cell_type": "code",
   "execution_count": 16,
   "metadata": {},
   "outputs": [
    {
     "name": "stdout",
     "output_type": "stream",
     "text": [
      "29/29 [==============================] - 0s 4ms/step\n",
      "(916, 8)\n"
     ]
    },
    {
     "data": {
      "image/png": "[encoded data removed]",
      "text/plain": [
       "<Figure size 1440x1440 with 2 Axes>"
      ]
     },
     "metadata": {
      "needs_background": "light"
     },
     "output_type": "display_data"
    }
   ],
   "source": [
    "import seaborn as sns\n",
    "import matplotlib.pyplot as plt\n",
    "\n",
    "y_pred=model.predict(x_train)\n",
    "print(y_pred.shape)\n",
    "confusion_mtx = tf.math.confusion_matrix(y_pred.argmax(axis=1),ys_train.argmax(axis=1))\n",
    "plt.figure(figsize=(20, 20))\n",
    "sns.heatmap(confusion_mtx,\n",
    "            xticklabels=wake_words,\n",
    "            yticklabels=wake_words,\n",
    "            annot=True, fmt='g')\n",
    "plt.xlabel('Prediction')\n",
    "plt.ylabel('Label')\n",
    "plt.show()\n"
   ]
  },
  {
   "cell_type": "code",
   "execution_count": 18,
   "metadata": {},
   "outputs": [
    {
     "data": {
      "text/plain": [
       "['Ajuda',\n",
       " 'Segurenca',\n",
       " 'Policia',\n",
       " 'Ambulancia',\n",
       " 'Roubo',\n",
       " 'Arma',\n",
       " 'Faca',\n",
       " 'Assassinato']"
      ]
     },
     "execution_count": 18,
     "metadata": {},
     "output_type": "execute_result"
    }
   ],
   "source": [
    "all_targets"
   ]
  },
  {
   "cell_type": "code",
   "execution_count": null,
   "metadata": {},
   "outputs": [],
   "source": []
  }
 ],
 "metadata": {
  "kernelspec": {
   "display_name": "Python 3 (ipykernel)",
   "language": "python",
   "name": "python3"
  },
  "language_info": {
   "codemirror_mode": {
    "name": "ipython",
    "version": 3
   },
   "file_extension": ".py",
   "mimetype": "text/x-python",
   "name": "python",
   "nbconvert_exporter": "python",
   "pygments_lexer": "ipython3",
   "version": "3.9.7"
  }
 },
 "nbformat": 4,
 "nbformat_minor": 2
}
