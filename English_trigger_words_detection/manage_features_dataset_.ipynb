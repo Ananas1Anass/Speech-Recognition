{
 "cells": [
  {
   "cell_type": "code",
   "execution_count": 1,
   "metadata": {},
   "outputs": [],
   "source": [
    "from os import listdir\n",
    "from os.path import join, isdir\n",
    "import librosa\n",
    "import random\n",
    "import numpy as np\n",
    "import matplotlib.pyplot as plt\n",
    "import python_speech_features"
   ]
  },
  {
   "cell_type": "code",
   "execution_count": 2,
   "metadata": {},
   "outputs": [
    {
     "name": "stdout",
     "output_type": "stream",
     "text": [
      "Ajuda\n",
      "Segurenca\n",
      "Policia\n",
      "Ambulancia\n",
      "Roubo\n",
      "_background_noise_\n",
      "Arma\n",
      "Faca\n",
      "Assassinato\n"
     ]
    }
   ],
   "source": [
    "dataset_path = '/home/anass/Projet_Stage/Database-20220727T140818Z-001/organized/normalized1'\n",
    "for name in listdir(dataset_path):\n",
    "    if isdir(join(dataset_path, name)):\n",
    "        print(name)"
   ]
  },
  {
   "cell_type": "code",
   "execution_count": 3,
   "metadata": {},
   "outputs": [],
   "source": [
    "# Create an all target list\n",
    "all_targets = [name for name in listdir(dataset_path) if isdir(join(dataset_path, name))]\n",
    "\n",
    "# Leave off background noise set\n",
    "all_targets.remove('_background_noise_')\n",
    "\n",
    "# See how many files are in each directory\n",
    "num_samples = 0\n",
    "for target in all_targets:\n",
    "    size = len(listdir(join(dataset_path, target)))\n",
    "    num_samples += size"
   ]
  },
  {
   "cell_type": "code",
   "execution_count": 4,
   "metadata": {},
   "outputs": [],
   "source": [
    "#Settings\n",
    "target_list = all_targets\n",
    "feature_sets_file = '/home/anass/Projet_Stage/Database-20220727T140818Z-001/organized/port_npz.npz'\n",
    "perc_keep_samples = 1.0 # 1.0 is keep all samples\n",
    "val_ratio = 0.1\n",
    "test_ratio = 0.1\n",
    "sample_rate = 8000\n",
    "num_mfcc = 16\n",
    "len_mfcc = 16"
   ]
  },
  {
   "cell_type": "code",
   "execution_count": 5,
   "metadata": {},
   "outputs": [],
   "source": [
    "# Create list of filenames along with ground truth vector (y)\n",
    "filenames = []\n",
    "y = []\n",
    "for index, target in enumerate(target_list):\n",
    "    filenames.append(listdir(join(dataset_path, target)))\n",
    "    y.append(np.ones(len(filenames[index])) * index)\n",
    "\n",
    "# Flatten filename and y vectors\n",
    "filenames = [item for sublist in filenames for item in sublist]\n",
    "y = [item for sublist in y for item in sublist]\n",
    "\n",
    "# Associate filenames with true output and shuffle\n",
    "filenames_y = list(zip(filenames, y))\n",
    "random.shuffle(filenames_y)\n",
    "\n",
    "# Only keep the specified number of samples (shorter extraction/trainning)\n",
    "filenames_y = filenames_y[:int(len(filenames_y) * perc_keep_samples)]\n",
    "\n",
    "# Calculate validation and test set sizes\n",
    "val_set_size = int(len(filenames_y) * val_ratio)\n",
    "test_set_size = int(len(filenames_y) * test_ratio)\n",
    "\n",
    "# Break dataset apart into train, validation, and test sets\n",
    "filenames_y_val = filenames_y[:val_set_size]\n",
    "filenames_y_test = filenames_y[val_set_size:(val_set_size + test_set_size)]\n",
    "filenames_y_train = filenames_y[(val_set_size + test_set_size):]\n",
    "\n",
    "# Unzip filenames and y\n",
    "filenames_val, y_orig_val = zip(*filenames_y_val)\n",
    "filenames_test, y_orig_test = zip(*filenames_y_test)\n",
    "filenames_train, y_orig_train = zip(*filenames_y_train)"
   ]
  },
  {
   "cell_type": "code",
   "execution_count": 6,
   "metadata": {},
   "outputs": [],
   "source": [
    "def calc_mfcc(path):\n",
    "    # Load wavefile\n",
    "    signal, fs = librosa.load(path, sample_rate)\n",
    "\n",
    "    # Create MFCCs from sound clip\n",
    "    mfccs = python_speech_features.base.mfcc(signal,\n",
    "                                            samplerate=fs,\n",
    "                                            winlen=0.256,\n",
    "                                            winstep=0.05,\n",
    "                                            numcep=num_mfcc,\n",
    "                                            nfilt=16,\n",
    "                                            nfft=2048,\n",
    "                                            preemph=0.0,\n",
    "                                            ceplifter=0,\n",
    "                                            appendEnergy=False,\n",
    "                                            winfunc=np.hanning)\n",
    "    \n",
    "    return mfccs.transpose()"
   ]
  },
  {
   "cell_type": "code",
   "execution_count": 7,
   "metadata": {},
   "outputs": [
    {
     "name": "stdout",
     "output_type": "stream",
     "text": [
      "Dropped: 47 (16, 14)\n",
      "Dropped: 56 (16, 9)\n",
      "Dropped: 118 (16, 15)\n",
      "Dropped: 124 (16, 12)\n",
      "Dropped: 127 (16, 12)\n",
      "Dropped: 194 (16, 12)\n",
      "Dropped: 268 (16, 12)\n",
      "Dropped: 366 (16, 13)\n",
      "Dropped: 368 (16, 15)\n",
      "Dropped: 439 (16, 13)\n",
      "% of problematic samples: 0.02\n"
     ]
    }
   ],
   "source": [
    "# TEST: Construct test set by computing MFCC of each WAV file\n",
    "prob_cnt = 0\n",
    "x_test = []\n",
    "y_test = []\n",
    "for index, filename in enumerate(filenames_train):\n",
    "    \n",
    "    # Stop after 500\n",
    "    if index >= 500:\n",
    "        break\n",
    "    \n",
    "    # Create path from given filename and target item\n",
    "    path = join(dataset_path, target_list[int(y_orig_train[index])], filename)\n",
    "    \n",
    "    # Create MFCCs\n",
    "    mfccs = calc_mfcc(path)\n",
    "    \n",
    "    if mfccs.shape[1] == len_mfcc:\n",
    "        x_test.append(mfccs)\n",
    "        y_test.append(y_orig_train[index])\n",
    "    else:\n",
    "        print('Dropped:', index, mfccs.shape)\n",
    "        prob_cnt += 1\n",
    "\n",
    "print('% of problematic samples:', prob_cnt / 500)"
   ]
  },
  {
   "cell_type": "code",
   "execution_count": 8,
   "metadata": {},
   "outputs": [
    {
     "name": "stdout",
     "output_type": "stream",
     "text": [
      "MFCCs: [[-2.72659376e+01 -2.11386524e+01 -1.89830918e+01 -2.10876395e+01\n",
      "  -2.74428687e+01 -3.40676999e+01 -3.63697765e+01 -3.77827657e+01\n",
      "  -3.84443225e+01 -3.92673788e+01 -3.96842661e+01 -3.92048230e+01\n",
      "  -3.91812151e+01 -3.91751175e+01 -3.87988564e+01 -3.87235926e+01]\n",
      " [ 4.16857263e+00  5.65159702e+00  6.72898086e+00  7.27424650e+00\n",
      "   7.49671106e+00  6.82042936e+00  5.83105436e+00  5.19023871e+00\n",
      "   4.94177235e+00  4.48172313e+00  4.41588088e+00  4.61705866e+00\n",
      "   4.52790058e+00  4.71599424e+00  4.88062137e+00  4.69219048e+00]\n",
      " [-2.21272409e+00 -1.15507180e-01  1.09356943e+00  1.92606739e+00\n",
      "   2.37417154e+00  2.35238431e+00  2.08363707e+00  1.72301497e+00\n",
      "   1.67151366e+00  1.29264889e+00  9.87487953e-01  1.05422778e+00\n",
      "   1.22608805e+00  1.41106736e+00  1.26001383e+00  9.24954872e-01]\n",
      " [ 1.31519329e+00  1.53045236e+00  1.08239921e+00  7.53043328e-01\n",
      "   1.10177442e+00  1.74071149e+00  1.26601712e+00  1.04241450e+00\n",
      "   1.16742027e+00  1.04340361e+00  9.99081519e-01  9.85194013e-01\n",
      "   9.46125842e-01  7.52681771e-01  6.60048857e-01  7.10458861e-01]\n",
      " [ 1.09080161e+00 -3.50437641e-01 -7.91689789e-01 -7.94311827e-01\n",
      "  -4.80647796e-01 -2.12177203e-01 -3.95251356e-01 -3.91476880e-01\n",
      "  -3.58481985e-01 -4.36545180e-01 -5.55731918e-01 -5.39326917e-01\n",
      "  -5.59897407e-01 -5.30366182e-01 -7.90258533e-01 -1.11875613e+00]\n",
      " [-2.19054404e-01 -1.82398565e+00 -1.88832507e+00 -1.70203971e+00\n",
      "  -1.06009204e+00  4.69976426e-01  1.18405484e+00  1.46400755e+00\n",
      "   1.33659168e+00  1.22750744e+00  9.69249036e-01  8.22980276e-01\n",
      "   7.67967344e-01  7.39146229e-01  3.11568401e-01  4.08998734e-01]\n",
      " [ 9.40679452e-01  5.20632411e-01  7.00234269e-01  8.99988519e-01\n",
      "   1.09235672e+00  9.91331576e-01  1.05516073e+00  8.50265459e-01\n",
      "   7.28077649e-01  8.11006878e-01  8.89799164e-01  8.58424457e-01\n",
      "   6.73335714e-01  4.60074769e-01  5.91342453e-01  9.20472363e-01]\n",
      " [ 6.63308877e-01  1.33541040e+00  1.78485917e+00  2.07951075e+00\n",
      "   1.76649883e+00  4.08597060e-01  2.88860385e-01  7.56199126e-02\n",
      "  -7.61004239e-02 -2.14449629e-02  1.27180159e-02  8.04351680e-02\n",
      "   6.02456879e-02  1.66813956e-01  2.87261590e-01  1.68959553e-01]\n",
      " [-3.22409930e-02  5.72617275e-01  5.05078498e-01  4.25389787e-01\n",
      "   3.30762187e-01 -1.80472954e-01 -3.37938440e-02 -2.24851155e-01\n",
      "  -6.87735009e-02  4.11893322e-02 -1.65898648e-02  3.53884948e-02\n",
      "  -2.29809080e-02  3.88650199e-03  6.85440299e-02 -9.21928620e-02]\n",
      " [-5.41778184e-01 -4.35296448e-01 -6.52755642e-01 -8.35785903e-01\n",
      "  -8.20558869e-01 -4.08646220e-01 -1.92444589e-01  9.90237510e-02\n",
      "   3.67769963e-01  2.68602817e-01  2.29550917e-01  2.28663288e-01\n",
      "   1.00561473e-01  7.73420541e-02  1.42077840e-01  2.25434157e-01]\n",
      " [ 5.04050756e-01  3.89004431e-01  5.52056534e-01  7.61891491e-01\n",
      "   5.83252299e-01 -2.89146528e-01 -5.32603269e-01 -7.24007448e-01\n",
      "  -6.11728622e-01 -5.10228186e-01 -4.22937970e-01 -3.74442707e-01\n",
      "  -4.29667689e-01 -5.89149690e-01 -8.05536195e-01 -8.11085194e-01]\n",
      " [-5.02450620e-01 -1.03142878e+00 -9.82167278e-01 -8.48627366e-01\n",
      "  -5.84569903e-01 -1.00141237e-01  1.46448266e-01  2.09511583e-01\n",
      "   4.11059884e-01  4.92209053e-01  1.83216216e-01  1.43483054e-01\n",
      "   2.04335623e-01  1.70511964e-01  1.54400130e-01  1.39081512e-01]\n",
      " [ 1.55330946e-01 -3.42081011e-01 -5.46104950e-01 -6.86360890e-01\n",
      "  -7.33651090e-01 -3.69553498e-01 -1.30544340e-01 -2.44335487e-01\n",
      "  -5.21682489e-02  1.84514860e-01  5.23952358e-02 -7.86058318e-02\n",
      "  -6.26635957e-02 -1.75071623e-01 -1.41844867e-01 -1.80176836e-02]\n",
      " [-3.55056516e-01 -6.66781229e-02  1.70362226e-01  2.86095402e-01\n",
      "   1.98838228e-01  1.49302636e-01  2.43921498e-01  1.25748467e-01\n",
      "  -1.85862460e-03  1.25578878e-03  3.04560678e-03  1.97165132e-02\n",
      "   9.19325538e-02 -2.61081887e-02 -8.79207346e-02 -1.08243030e-02]\n",
      " [-3.95327155e-01 -2.65920885e-01 -3.79397919e-01 -3.66454370e-01\n",
      "  -3.47453231e-02  3.05023530e-01  2.70456127e-01  1.20578743e-01\n",
      "   2.24648580e-02 -1.27826390e-01 -2.05680965e-01 -1.14942289e-01\n",
      "   5.48681187e-02  8.42907532e-02  8.38821324e-03  1.58317407e-02]\n",
      " [-1.69984009e-01  9.03725405e-02  1.27108924e-01  1.18328192e-01\n",
      "   6.87077826e-03  4.08558549e-02  1.20164644e-01  8.10318150e-02\n",
      "   1.29995265e-01  1.15414185e-01  7.28697753e-02  7.00616162e-02\n",
      "   8.83051930e-02  7.48561681e-02  1.26770020e-01  1.16762713e-01]]\n",
      "Faca\n"
     ]
    },
    {
     "data": {
      "image/png": "[encoded data removed]",
      "text/plain": [
       "<Figure size 432x288 with 1 Axes>"
      ]
     },
     "metadata": {
      "needs_background": "light"
     },
     "output_type": "display_data"
    }
   ],
   "source": [
    "# TEST: Test shorter MFCC\n",
    "#from playsound import playsound\n",
    "\n",
    "idx = 13\n",
    "\n",
    "# Create path from given filename and target item\n",
    "path = join(dataset_path, target_list[int(y_orig_train[idx])], \n",
    "            filenames_train[idx])\n",
    "\n",
    "# Create MFCCs\n",
    "mfccs = calc_mfcc(path)\n",
    "print(\"MFCCs:\", mfccs)\n",
    "\n",
    "# Plot MFCC\n",
    "fig = plt.figure()\n",
    "plt.imshow(mfccs, cmap='inferno', origin='lower')\n",
    "\n",
    "# TEST: Play problem sounds\n",
    "print(target_list[int(y_orig_train[idx])])\n",
    "#playsound(path)"
   ]
  },
  {
   "cell_type": "code",
   "execution_count": 9,
   "metadata": {},
   "outputs": [],
   "source": [
    "# Function: Create MFCCs, keeping only ones of desired length\n",
    "def extract_features(in_files, in_y):\n",
    "    prob_cnt = 0\n",
    "    out_x = []\n",
    "    out_y = []\n",
    "        \n",
    "    for index, filename in enumerate(in_files):\n",
    "    \n",
    "        # Create path from given filename and target item\n",
    "        path = join(dataset_path, target_list[int(in_y[index])], \n",
    "                    filename)\n",
    "        \n",
    "        # Check to make sure we're reading a .wav file\n",
    "        if not path.endswith('.wav'):\n",
    "            continue\n",
    "\n",
    "        # Create MFCCs\n",
    "        mfccs = calc_mfcc(path)\n",
    "\n",
    "         # Only keep MFCCs with given length\n",
    "        if mfccs.shape[1] == len_mfcc:\n",
    "            out_x.append(mfccs)\n",
    "            out_y.append(in_y[index])\n",
    "        else:\n",
    "            print('Dropped:', index, mfccs.shape)\n",
    "            prob_cnt += 1\n",
    "            \n",
    "    return out_x, out_y, prob_cnt"
   ]
  },
  {
   "cell_type": "code",
   "execution_count": 10,
   "metadata": {
    "tags": [
     "outputPrepend"
    ]
   },
   "outputs": [
    {
     "name": "stdout",
     "output_type": "stream",
     "text": [
      "Dropped: 47 (16, 14)\n",
      "Dropped: 56 (16, 9)\n",
      "Dropped: 118 (16, 15)\n",
      "Dropped: 124 (16, 12)\n",
      "Dropped: 127 (16, 12)\n",
      "Dropped: 194 (16, 12)\n",
      "Dropped: 268 (16, 12)\n",
      "Dropped: 366 (16, 13)\n",
      "Dropped: 368 (16, 15)\n",
      "Dropped: 439 (16, 13)\n",
      "Dropped: 789 (16, 11)\n",
      "Removed percentage: 0.011866235167206042\n",
      "Dropped: 53 (16, 15)\n",
      "Dropped: 55 (16, 11)\n",
      "Removed percentage: 0.017391304347826087\n",
      "Removed percentage: 0.0\n"
     ]
    }
   ],
   "source": [
    "# Create train, validation, and test sets\n",
    "x_train, y_train, prob = extract_features(filenames_train, y_orig_train)\n",
    "print('Removed percentage:', prob / len(y_orig_train))\n",
    "x_val, y_val, prob = extract_features(filenames_val, y_orig_val)\n",
    "print('Removed percentage:', prob / len(y_orig_val))\n",
    "x_test, y_test, prob = extract_features(filenames_test, y_orig_test)\n",
    "print('Removed percentage:', prob / len(y_orig_test))"
   ]
  },
  {
   "cell_type": "code",
   "execution_count": 11,
   "metadata": {},
   "outputs": [],
   "source": [
    "# Save features and truth vector (y) sets to disk\n",
    "np.savez(feature_sets_file,\n",
    "         x_train=x_train,\n",
    "         y_train=y_train,\n",
    "         x_val=x_val,\n",
    "         y_val=y_val,\n",
    "         x_test=x_test,\n",
    "         y_test=y_test)\n",
    "\n",
    "# TEST: Load features\n",
    "feature_sets = np.load(feature_sets_file)"
   ]
  },
  {
   "cell_type": "code",
   "execution_count": null,
   "metadata": {},
   "outputs": [],
   "source": []
  }
 ],
 "metadata": {
  "kernelspec": {
   "display_name": "Python 3 (ipykernel)",
   "language": "python",
   "name": "python3"
  },
  "language_info": {
   "codemirror_mode": {
    "name": "ipython",
    "version": 3
   },
   "file_extension": ".py",
   "mimetype": "text/x-python",
   "name": "python",
   "nbconvert_exporter": "python",
   "pygments_lexer": "ipython3",
   "version": "3.9.7"
  }
 },
 "nbformat": 4,
 "nbformat_minor": 2
}
